{
 "cells": [
  {
   "cell_type": "markdown",
   "metadata": {
    "pycharm": {
     "name": "#%% md\n"
    }
   },
   "source": [
    "# Deep learning\n",
    "---------------------------\n",
    "\n",
    "This example shows how to use ATOM to train and validate a Convolutional Neural Network implemented with [Keras](https://keras.io/) using [scikeras](https://www.adriangb.com/scikeras/refs/heads/master/index.html).\n",
    "\n",
    "Import the MNIST dataset from [keras.datasets](https://keras.io/api/datasets/mnist/). This is a well known image dataset whose goal is to classify handwritten digits."
   ]
  },
  {
   "cell_type": "markdown",
   "source": [
    "## Using scikeras"
   ],
   "metadata": {
    "collapsed": false,
    "pycharm": {
     "name": "#%% md\n"
    }
   }
  },
  {
   "cell_type": "code",
   "execution_count": 15,
   "outputs": [],
   "source": [
    "# Disable annoying tf warnings\n",
    "import logging\n",
    "import tensorflow as tf\n",
    "tf.get_logger().setLevel(logging.ERROR)\n",
    "\n",
    "from atom import ATOMClassifier, ATOMModel\n",
    "from sklearn.preprocessing import FunctionTransformer\n",
    "from skopt.space.space import Categorical\n",
    "\n",
    "from scikeras.wrappers import KerasClassifier\n",
    "from keras.datasets import mnist\n",
    "from keras.models import Sequential\n",
    "from keras.layers import Dense, Flatten, Conv2D, Dropout"
   ],
   "metadata": {
    "collapsed": false,
    "pycharm": {
     "name": "#%%\n"
    }
   }
  },
  {
   "cell_type": "code",
   "execution_count": 16,
   "outputs": [],
   "source": [
    "# Create the convolutional neural network\n",
    "class ConvNN(KerasClassifier):\n",
    "    \"\"\"Convolutional neural network model.\"\"\"\n",
    "\n",
    "    @property\n",
    "    def feature_encoder(self):\n",
    "        \"\"\"Convert the 2d input to the image's format (len(X), 28, 28, 1).\"\"\"\n",
    "        return FunctionTransformer(\n",
    "            func=lambda X: X.reshape(X.shape[0], 28, 28, 1),\n",
    "        )\n",
    "\n",
    "    @staticmethod\n",
    "    def _keras_build_fn():\n",
    "        \"\"\"Create the model's architecture.\"\"\"\n",
    "        model = Sequential()\n",
    "        model.add(\n",
    "            Conv2D(\n",
    "                filters=64,\n",
    "                kernel_size=3,\n",
    "                activation=\"relu\",\n",
    "                input_shape=(28, 28, 1),\n",
    "            )\n",
    "        )\n",
    "        model.add(Conv2D(filters=64, kernel_size=3, activation=\"relu\"))\n",
    "        model.add(Flatten())\n",
    "        model.add(Dense(units=10, activation=\"softmax\"))\n",
    "        model.compile(\n",
    "            optimizer=\"adam\",\n",
    "            loss=\"sparse_categorical_crossentropy\",\n",
    "            metrics=[\"accuracy\"],\n",
    "        )\n",
    "\n",
    "        return model"
   ],
   "metadata": {
    "collapsed": false,
    "pycharm": {
     "name": "#%%\n"
    }
   }
  },
  {
   "cell_type": "code",
   "execution_count": 17,
   "outputs": [],
   "source": [
    "# Convert the model to an ATOM model\n",
    "model = ATOMModel(\n",
    "    estimator=ConvNN(epochs=5, verbose=0),\n",
    "    acronym=\"CNN\",\n",
    "    fullname=\"Neural network\",\n",
    ")"
   ],
   "metadata": {
    "collapsed": false,
    "pycharm": {
     "name": "#%%\n"
    }
   }
  },
  {
   "cell_type": "code",
   "execution_count": 18,
   "outputs": [],
   "source": [
    "# Download the MNIST dataset\n",
    "(X_train, y_train), (X_test, y_test) = mnist.load_data()\n",
    "\n",
    "# Flatten data to follow sklearn's API (2d input)\n",
    "X_train = X_train.reshape(len(X_train), -1)\n",
    "X_test = X_test.reshape(len(X_test), -1)\n",
    "\n",
    "data = (X_train, y_train), (X_test, y_test)"
   ],
   "metadata": {
    "collapsed": false,
    "pycharm": {
     "name": "#%%\n"
    }
   }
  },
  {
   "cell_type": "code",
   "execution_count": 19,
   "outputs": [
    {
     "name": "stdout",
     "output_type": "stream",
     "text": [
      "<< ================== ATOM ================== >>\n",
      "Algorithm task: multiclass classification.\n",
      "Parallel processing with 6 cores.\n",
      "\n",
      "Dataset stats ==================== >>\n",
      "Shape: (7000, 785)\n",
      "Memory: 5.50 MB\n",
      "Scaled: False\n",
      "Outlier values: 42381 (0.9%)\n",
      "-------------------------------------\n",
      "Train set size: 6000\n",
      "Test set size: 1000\n",
      "-------------------------------------\n",
      "|   |     dataset |       train |        test |\n",
      "| - | ----------- | ----------- | ----------- |\n",
      "| 0 |   666 (1.1) |   557 (1.0) |   109 (1.4) |\n",
      "| 1 |   803 (1.3) |   696 (1.3) |   107 (1.3) |\n",
      "| 2 |   704 (1.1) |   602 (1.1) |   102 (1.3) |\n",
      "| 3 |   730 (1.2) |   636 (1.2) |    94 (1.2) |\n",
      "| 4 |   668 (1.1) |   575 (1.1) |    93 (1.2) |\n",
      "| 5 |   626 (1.0) |   546 (1.0) |    80 (1.0) |\n",
      "| 6 |   727 (1.2) |   627 (1.1) |   100 (1.2) |\n",
      "| 7 |   735 (1.2) |   624 (1.1) |   111 (1.4) |\n",
      "| 8 |   678 (1.1) |   576 (1.1) |   102 (1.3) |\n",
      "| 9 |   663 (1.1) |   561 (1.0) |   102 (1.3) |\n",
      "\n"
     ]
    }
   ],
   "source": [
    "atom = ATOMClassifier(*data, n_rows=0.1, n_jobs=6, verbose=2, random_state=1)"
   ],
   "metadata": {
    "collapsed": false,
    "pycharm": {
     "name": "#%%\n"
    }
   }
  },
  {
   "cell_type": "code",
   "execution_count": null,
   "outputs": [
    {
     "name": "stdout",
     "output_type": "stream",
     "text": [
      "\n",
      "Training ========================= >>\n",
      "Models: CNN\n",
      "Metric: f1_weighted\n",
      "\n",
      "\n",
      "Running BO for ConvNN...\n",
      "| call             | batch_size | f1_weighted | best_f1_weighted |    time | total_time |\n",
      "| ---------------- | ---------- | ----------- | ---------------- | ------- | ---------- |\n",
      "| Initial point 1  |        512 |      0.4709 |           0.4709 | 15.742s |    15.747s |\n",
      "| Initial point 2  |        512 |      0.4709 |           0.4709 |  0.002s |    15.749s |\n",
      "\n",
      "Exception encountered while running the CNN model. Removing model from pipeline. \n",
      "BrokenProcessPool: Could not un-serialize the CNN model to send it to the workers. This usually happens when the model is unpickable. Try using one of the predefined models, n_jobs=1 or bo_params={'cv': 1}.\n"
     ]
    }
   ],
   "source": [
    "# Like any other model, we can define custom dimensions for the bayesian optimization\n",
    "atom.run(\n",
    "    models=ConvNN(),\n",
    "    metric=\"f1_weighted\",\n",
    "    n_calls=5,\n",
    "    bo_params={\n",
    "        \"dimensions\": [Categorical([64, 128, 256, 512], name=\"batch_size\")],\n",
    "        \"max_time\": 120,\n",
    "        \"cv\":3,\n",
    "    }\n",
    ")"
   ],
   "metadata": {
    "collapsed": false,
    "pycharm": {
     "name": "#%%\n",
     "is_executing": true
    }
   }
  },
  {
   "cell_type": "markdown",
   "metadata": {
    "pycharm": {
     "name": "#%% md\n"
    }
   },
   "source": [
    "## Analyze the results"
   ]
  },
  {
   "cell_type": "code",
   "execution_count": 20,
   "metadata": {
    "pycharm": {
     "name": "#%%\n"
    }
   },
   "outputs": [
    {
     "ename": "AttributeError",
     "evalue": "ATOMClassifier object has no attribute cnn.",
     "output_type": "error",
     "traceback": [
      "\u001B[1;31m---------------------------------------------------------------------------\u001B[0m",
      "\u001B[1;31mAttributeError\u001B[0m                            Traceback (most recent call last)",
      "Input \u001B[1;32mIn [20]\u001B[0m, in \u001B[0;36m<cell line: 2>\u001B[1;34m()\u001B[0m\n\u001B[0;32m      1\u001B[0m \u001B[38;5;66;03m# Use the prediction methods like any other model\u001B[39;00m\n\u001B[1;32m----> 2\u001B[0m \u001B[43matom\u001B[49m\u001B[38;5;241;43m.\u001B[39;49m\u001B[43mcnn\u001B[49m\u001B[38;5;241m.\u001B[39mpredict_proba(X_train)\n",
      "File \u001B[1;32m~\\Documents\\Python\\ATOM\\atom\\baserunner.py:50\u001B[0m, in \u001B[0;36mBasePredictor.__getattr__\u001B[1;34m(self, item)\u001B[0m\n\u001B[0;32m     48\u001B[0m     \u001B[38;5;28;01mreturn\u001B[39;00m \u001B[38;5;28mgetattr\u001B[39m(\u001B[38;5;28mself\u001B[39m\u001B[38;5;241m.\u001B[39mbranch\u001B[38;5;241m.\u001B[39mdataset, item)  \u001B[38;5;66;03m# Get attr from dataset\u001B[39;00m\n\u001B[0;32m     49\u001B[0m \u001B[38;5;28;01melse\u001B[39;00m:\n\u001B[1;32m---> 50\u001B[0m     \u001B[38;5;28;01mraise\u001B[39;00m \u001B[38;5;167;01mAttributeError\u001B[39;00m(\n\u001B[0;32m     51\u001B[0m         \u001B[38;5;124mf\u001B[39m\u001B[38;5;124m\"\u001B[39m\u001B[38;5;132;01m{\u001B[39;00m\u001B[38;5;28mself\u001B[39m\u001B[38;5;241m.\u001B[39m\u001B[38;5;18m__class__\u001B[39m\u001B[38;5;241m.\u001B[39m\u001B[38;5;18m__name__\u001B[39m\u001B[38;5;132;01m}\u001B[39;00m\u001B[38;5;124m object has no attribute \u001B[39m\u001B[38;5;132;01m{\u001B[39;00mitem\u001B[38;5;132;01m}\u001B[39;00m\u001B[38;5;124m.\u001B[39m\u001B[38;5;124m\"\u001B[39m\n\u001B[0;32m     52\u001B[0m     )\n",
      "\u001B[1;31mAttributeError\u001B[0m: ATOMClassifier object has no attribute cnn."
     ]
    }
   ],
   "source": [
    "# Use the prediction methods like any other model\n",
    "atom.cnn.predict_proba(X_train)"
   ]
  },
  {
   "cell_type": "code",
   "execution_count": null,
   "outputs": [],
   "source": [
    "# Or make plots...\n",
    "atom.cnn.plot_confusion_matrix()"
   ],
   "metadata": {
    "collapsed": false,
    "pycharm": {
     "name": "#%%\n"
    }
   }
  }
 ],
 "metadata": {
  "kernelspec": {
   "display_name": "Python 3 (ipykernel)",
   "language": "python",
   "name": "python3"
  },
  "language_info": {
   "codemirror_mode": {
    "name": "ipython",
    "version": 3
   },
   "file_extension": ".py",
   "mimetype": "text/x-python",
   "name": "python",
   "nbconvert_exporter": "python",
   "pygments_lexer": "ipython3",
   "version": "3.8.3"
  },
  "toc": {
   "base_numbering": 1,
   "nav_menu": {},
   "number_sections": true,
   "sideBar": true,
   "skip_h1_title": false,
   "title_cell": "Table of Contents",
   "title_sidebar": "Contents",
   "toc_cell": false,
   "toc_position": {},
   "toc_section_display": true,
   "toc_window_display": false
  }
 },
 "nbformat": 4,
 "nbformat_minor": 4
}
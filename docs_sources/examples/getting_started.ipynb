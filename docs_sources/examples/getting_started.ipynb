{
 "cells": [
  {
   "cell_type": "markdown",
   "id": "61fb44bc-6b5a-4ca6-9b55-66ee34620ea7",
   "metadata": {},
   "source": [
    "# Example: Getting started\n",
    "--------------------------\n",
    "\n",
    "This example shows how to get started with the atom-ml library.\n",
    "\n",
    "The data used is a variation on the [Australian weather dataset](https://www.kaggle.com/jsphyg/weather-dataset-rattle-package) from Kaggle. You can download it from [here](https://github.com/tvdboom/ATOM/blob/master/examples/datasets/weatherAUS.csv). The goal of this dataset is to predict whether or not it will rain tomorrow training a binary classifier on target `RainTomorrow`."
   ]
  },
  {
   "cell_type": "code",
   "execution_count": 1,
   "id": "cc95d94f-0bc4-44e3-a74c-84c44fd8def3",
   "metadata": {},
   "outputs": [],
   "source": [
    "import pandas as pd\n",
    "from atom import ATOMClassifier\n",
    "\n",
    "# Load the Australian Weather dataset\n",
    "X = pd.read_csv(\"https://raw.githubusercontent.com/tvdboom/ATOM/master/examples/datasets/weatherAUS.csv\")"
   ]
  },
  {
   "cell_type": "code",
   "execution_count": 2,
   "id": "89b421ef-df08-4a44-935f-18eaa53563e4",
   "metadata": {},
   "outputs": [
    {
     "name": "stdout",
     "output_type": "stream",
     "text": [
      "<< ================== ATOM ================== >>\n",
      "\n",
      "Configuration ==================== >>\n",
      "Algorithm task: Binary classification.\n",
      "\n",
      "Dataset stats ==================== >>\n",
      "Shape: (1000, 22)\n",
      "Train set size: 800\n",
      "Test set size: 200\n",
      "-------------------------------------\n",
      "Memory: 176.13 kB\n",
      "Scaled: False\n",
      "Missing values: 2260 (10.3%)\n",
      "Categorical features: 5 (23.8%)\n",
      "\n"
     ]
    }
   ],
   "source": [
    "atom = ATOMClassifier(X, y=\"RainTomorrow\", n_rows=1000, verbose=2)"
   ]
  },
  {
   "cell_type": "code",
   "execution_count": 3,
   "id": "d5a53901-ba1d-4120-bfe9-a65a5e7dffe3",
   "metadata": {},
   "outputs": [
    {
     "name": "stdout",
     "output_type": "stream",
     "text": [
      "Fitting Imputer...\n",
      "Imputing missing values...\n",
      " --> Imputing 8 missing values with median (11.6) in feature MinTemp.\n",
      " --> Imputing 2 missing values with median (22.3) in feature MaxTemp.\n",
      " --> Imputing 12 missing values with median (0.0) in feature Rainfall.\n",
      " --> Imputing 425 missing values with median (4.8) in feature Evaporation.\n",
      " --> Imputing 480 missing values with median (8.55) in feature Sunshine.\n",
      " --> Imputing 59 missing values with most_frequent (N) in feature WindGustDir.\n",
      " --> Imputing 59 missing values with median (37.0) in feature WindGustSpeed.\n",
      " --> Imputing 90 missing values with most_frequent (N) in feature WindDir9am.\n",
      " --> Imputing 28 missing values with most_frequent (SW) in feature WindDir3pm.\n",
      " --> Imputing 10 missing values with median (13.0) in feature WindSpeed9am.\n",
      " --> Imputing 19 missing values with median (17.0) in feature WindSpeed3pm.\n",
      " --> Imputing 17 missing values with median (70.0) in feature Humidity9am.\n",
      " --> Imputing 31 missing values with median (51.0) in feature Humidity3pm.\n",
      " --> Imputing 89 missing values with median (1017.8) in feature Pressure9am.\n",
      " --> Imputing 87 missing values with median (1015.2) in feature Pressure3pm.\n",
      " --> Imputing 383 missing values with median (5.0) in feature Cloud9am.\n",
      " --> Imputing 412 missing values with median (5.0) in feature Cloud3pm.\n",
      " --> Imputing 11 missing values with median (16.5) in feature Temp9am.\n",
      " --> Imputing 26 missing values with median (20.7) in feature Temp3pm.\n",
      " --> Imputing 12 missing values with most_frequent (No) in feature RainToday.\n",
      "Fitting Encoder...\n",
      "Encoding categorical columns...\n",
      " --> Target-encoding feature Location. Contains 49 classes.\n",
      " --> Target-encoding feature WindGustDir. Contains 16 classes.\n",
      " --> Target-encoding feature WindDir9am. Contains 16 classes.\n",
      " --> Target-encoding feature WindDir3pm. Contains 16 classes.\n",
      " --> Ordinal-encoding feature RainToday. Contains 2 classes.\n"
     ]
    }
   ],
   "source": [
    "atom.impute(strat_num=\"median\", strat_cat=\"most_frequent\")  \n",
    "atom.encode(strategy=\"Target\", max_onehot=8)"
   ]
  },
  {
   "cell_type": "code",
   "execution_count": 4,
   "id": "282546a1-012b-4ead-9441-55414d29d4ae",
   "metadata": {},
   "outputs": [
    {
     "name": "stdout",
     "output_type": "stream",
     "text": [
      "\n",
      "Training ========================= >>\n",
      "Models: LDA, AdaB\n",
      "Metric: auc\n",
      "\n",
      "\n",
      "Running hyperparameter tuning for LinearDiscriminantAnalysis...\n",
      "| trial |  solver | shrinkage |     auc | best_auc | time_trial | time_ht |    state |\n",
      "| ----- | ------- | --------- | ------- | -------- | ---------- | ------- | -------- |\n",
      "| 0     |   eigen |       0.9 |  0.8807 |   0.8807 |     0.162s |  0.162s | COMPLETE |\n",
      "| 1     |     svd |       nan |  0.8445 |   0.8807 |     0.147s |  0.309s | COMPLETE |\n",
      "| 2     |     svd |       nan |  0.8445 |   0.8807 |     0.001s |  0.310s | COMPLETE |\n",
      "| 3     |     svd |       nan |  0.8445 |   0.8807 |     0.001s |  0.311s | COMPLETE |\n",
      "| 4     |     svd |       nan |  0.8445 |   0.8807 |     0.001s |  0.312s | COMPLETE |\n",
      "| 5     |   eigen |       0.9 |  0.8807 |   0.8807 |     0.000s |  0.312s | COMPLETE |\n",
      "| 6     |     svd |       nan |  0.8445 |   0.8807 |     0.000s |  0.312s | COMPLETE |\n",
      "| 7     |     svd |       nan |  0.8445 |   0.8807 |     0.001s |  0.313s | COMPLETE |\n",
      "| 8     |   eigen |       0.5 |  0.8417 |   0.8807 |     0.143s |  0.456s | COMPLETE |\n",
      "| 9     |     svd |       nan |  0.8445 |   0.8807 |     0.001s |  0.457s | COMPLETE |\n",
      "Hyperparameter tuning ---------------------------\n",
      "Best trial --> 0\n",
      "Best parameters:\n",
      " --> solver: eigen\n",
      " --> shrinkage: 0.9\n",
      "Best evaluation --> auc: 0.8807\n",
      "Time elapsed: 0.457s\n",
      "Fit ---------------------------------------------\n",
      "Train evaluation --> auc: 0.8381\n",
      "Test evaluation --> auc: 0.8037\n",
      "Time elapsed: 0.025s\n",
      "-------------------------------------------------\n",
      "Time: 0.482s\n",
      "\n",
      "\n",
      "Running hyperparameter tuning for AdaBoost...\n",
      "| trial | n_estimators | learning_rate | algorithm |     auc | best_auc | time_trial | time_ht |    state |\n",
      "| ----- | ------------ | ------------- | --------- | ------- | -------- | ---------- | ------- | -------- |\n",
      "| 0     |           90 |        0.4088 |   SAMME.R |  0.8002 |   0.8002 |     0.331s |  0.331s | COMPLETE |\n",
      "| 1     |          190 |        0.1019 |   SAMME.R |  0.8294 |   0.8294 |     0.540s |  0.871s | COMPLETE |\n",
      "| 2     |          260 |         0.243 |   SAMME.R |   0.754 |   0.8294 |     0.645s |  1.515s | COMPLETE |\n",
      "| 3     |          490 |         0.041 |   SAMME.R |  0.7953 |   0.8294 |     1.105s |  2.620s | COMPLETE |\n",
      "| 4     |          210 |        0.1604 |     SAMME |  0.7969 |   0.8294 |     0.527s |  3.148s | COMPLETE |\n",
      "| 5     |          310 |        0.1504 |     SAMME |  0.7988 |   0.8294 |     0.696s |  3.843s | COMPLETE |\n",
      "| 6     |          380 |         2.445 |     SAMME |  0.5978 |   0.8294 |     0.830s |  4.674s | COMPLETE |\n",
      "| 7     |          100 |        0.9151 |     SAMME |  0.8372 |   0.8372 |     0.328s |  5.002s | COMPLETE |\n",
      "| 8     |          350 |        8.9334 |     SAMME |  0.6751 |   0.8372 |     0.786s |  5.787s | COMPLETE |\n",
      "| 9     |          450 |        0.1974 |     SAMME |    0.82 |   0.8372 |     0.969s |  6.757s | COMPLETE |\n",
      "Hyperparameter tuning ---------------------------\n",
      "Best trial --> 7\n",
      "Best parameters:\n",
      " --> n_estimators: 100\n",
      " --> learning_rate: 0.9151\n",
      " --> algorithm: SAMME\n",
      "Best evaluation --> auc: 0.8372\n",
      "Time elapsed: 6.757s\n",
      "Fit ---------------------------------------------\n",
      "Train evaluation --> auc: 0.9133\n",
      "Test evaluation --> auc: 0.8353\n",
      "Time elapsed: 0.232s\n",
      "-------------------------------------------------\n",
      "Time: 6.989s\n",
      "\n",
      "\n",
      "Final results ==================== >>\n",
      "Total time: 9.134s\n",
      "-------------------------------------\n",
      "LinearDiscriminantAnalysis --> auc: 0.8037\n",
      "AdaBoost                   --> auc: 0.8353 !\n"
     ]
    }
   ],
   "source": [
    "atom.run(models=[\"LDA\", \"AdaB\"], metric=\"auc\", n_trials=10)"
   ]
  },
  {
   "cell_type": "code",
   "execution_count": 5,
   "id": "6a5dd6a4-0371-4cc8-aa47-db02b5771fb2",
   "metadata": {},
   "outputs": [
    {
     "data": {
      "text/html": [
       "<div>\n",
       "<style scoped>\n",
       "    .dataframe tbody tr th:only-of-type {\n",
       "        vertical-align: middle;\n",
       "    }\n",
       "\n",
       "    .dataframe tbody tr th {\n",
       "        vertical-align: top;\n",
       "    }\n",
       "\n",
       "    .dataframe thead th {\n",
       "        text-align: right;\n",
       "    }\n",
       "</style>\n",
       "<table border=\"1\" class=\"dataframe\">\n",
       "  <thead>\n",
       "    <tr style=\"text-align: right;\">\n",
       "      <th></th>\n",
       "      <th>accuracy</th>\n",
       "      <th>ap</th>\n",
       "      <th>ba</th>\n",
       "      <th>f1</th>\n",
       "      <th>jaccard</th>\n",
       "      <th>mcc</th>\n",
       "      <th>precision</th>\n",
       "      <th>recall</th>\n",
       "      <th>auc</th>\n",
       "    </tr>\n",
       "  </thead>\n",
       "  <tbody>\n",
       "    <tr>\n",
       "      <th>LDA</th>\n",
       "      <td>0.785</td>\n",
       "      <td>0.5888</td>\n",
       "      <td>0.7533</td>\n",
       "      <td>0.5825</td>\n",
       "      <td>0.4110</td>\n",
       "      <td>0.4542</td>\n",
       "      <td>0.5000</td>\n",
       "      <td>0.6977</td>\n",
       "      <td>0.8037</td>\n",
       "    </tr>\n",
       "    <tr>\n",
       "      <th>AdaB</th>\n",
       "      <td>0.820</td>\n",
       "      <td>0.5801</td>\n",
       "      <td>0.7165</td>\n",
       "      <td>0.5610</td>\n",
       "      <td>0.3898</td>\n",
       "      <td>0.4490</td>\n",
       "      <td>0.5897</td>\n",
       "      <td>0.5349</td>\n",
       "      <td>0.8353</td>\n",
       "    </tr>\n",
       "  </tbody>\n",
       "</table>\n",
       "</div>"
      ],
      "text/plain": [
       "      accuracy      ap      ba      f1  jaccard     mcc  precision  recall  \\\n",
       "LDA      0.785  0.5888  0.7533  0.5825   0.4110  0.4542     0.5000  0.6977   \n",
       "AdaB     0.820  0.5801  0.7165  0.5610   0.3898  0.4490     0.5897  0.5349   \n",
       "\n",
       "         auc  \n",
       "LDA   0.8037  \n",
       "AdaB  0.8353  "
      ]
     },
     "execution_count": 5,
     "metadata": {},
     "output_type": "execute_result"
    }
   ],
   "source": [
    "atom.evaluate()"
   ]
  }
 ],
 "metadata": {
  "kernelspec": {
   "display_name": "Python 3 (ipykernel)",
   "language": "python",
   "name": "python3"
  },
  "language_info": {
   "codemirror_mode": {
    "name": "ipython",
    "version": 3
   },
   "file_extension": ".py",
   "mimetype": "text/x-python",
   "name": "python",
   "nbconvert_exporter": "python",
   "pygments_lexer": "ipython3",
   "version": "3.11.2"
  }
 },
 "nbformat": 4,
 "nbformat_minor": 5
}

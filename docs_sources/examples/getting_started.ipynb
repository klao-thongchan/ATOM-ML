{
 "cells": [
  {
   "cell_type": "markdown",
   "id": "61fb44bc-6b5a-4ca6-9b55-66ee34620ea7",
   "metadata": {},
   "source": [
    "# Example: Getting started\n",
    "--------------------------\n",
    "\n",
    "This example shows how to get started with the atom-ml library.\n",
    "\n",
    "The data used is a variation on the [Australian weather dataset](https://www.kaggle.com/jsphyg/weather-dataset-rattle-package) from Kaggle. You can download it from [here](https://github.com/tvdboom/ATOM/blob/master/examples/datasets/weatherAUS.csv). The goal of this dataset is to predict whether or not it will rain tomorrow training a binary classifier on target `RainTomorrow`."
   ]
  },
  {
   "cell_type": "code",
   "execution_count": 1,
   "id": "cc95d94f-0bc4-44e3-a74c-84c44fd8def3",
   "metadata": {},
   "outputs": [],
   "source": [
    "import pandas as pd\n",
    "from atom import ATOMClassifier\n",
    "\n",
    "# Load the Australian Weather dataset\n",
    "X = pd.read_csv(\"https://raw.githubusercontent.com/tvdboom/ATOM/master/examples/datasets/weatherAUS.csv\")"
   ]
  },
  {
   "cell_type": "code",
   "execution_count": 2,
   "id": "89b421ef-df08-4a44-935f-18eaa53563e4",
   "metadata": {},
   "outputs": [
    {
     "name": "stdout",
     "output_type": "stream",
     "text": [
      "<< ================== ATOM ================== >>\n",
      "Algorithm task: binary classification.\n",
      "\n",
      "Dataset stats ==================== >>\n",
      "Shape: (1000, 22)\n",
      "Train set size: 800\n",
      "Test set size: 200\n",
      "-------------------------------------\n",
      "Memory: 433.89 kB\n",
      "Scaled: False\n",
      "Missing values: 2232 (10.1%)\n",
      "Categorical features: 5 (23.8%)\n",
      "Outlier values: 3.0 (0.0%)\n",
      "\n"
     ]
    }
   ],
   "source": [
    "atom = ATOMClassifier(X, y=\"RainTomorrow\", n_rows=1000, verbose=2)"
   ]
  },
  {
   "cell_type": "code",
   "execution_count": 3,
   "id": "d5a53901-ba1d-4120-bfe9-a65a5e7dffe3",
   "metadata": {},
   "outputs": [
    {
     "name": "stdout",
     "output_type": "stream",
     "text": [
      "Fitting Imputer...\n",
      "Imputing missing values...\n",
      " --> Imputing 1 missing values with median (12.0) in feature MinTemp.\n",
      " --> Imputing 10 missing values with median (0.0) in feature Rainfall.\n",
      " --> Imputing 424 missing values with median (4.8) in feature Evaporation.\n",
      " --> Imputing 470 missing values with median (8.4) in feature Sunshine.\n",
      " --> Imputing 72 missing values with most_frequent (SE) in feature WindGustDir.\n",
      " --> Imputing 72 missing values with median (37.0) in feature WindGustSpeed.\n",
      " --> Imputing 68 missing values with most_frequent (N) in feature WindDir9am.\n",
      " --> Imputing 29 missing values with most_frequent (W) in feature WindDir3pm.\n",
      " --> Imputing 8 missing values with median (13.0) in feature WindSpeed9am.\n",
      " --> Imputing 20 missing values with median (19.0) in feature WindSpeed3pm.\n",
      " --> Imputing 11 missing values with median (70.0) in feature Humidity9am.\n",
      " --> Imputing 27 missing values with median (52.0) in feature Humidity3pm.\n",
      " --> Imputing 112 missing values with median (1017.4) in feature Pressure9am.\n",
      " --> Imputing 113 missing values with median (1014.9) in feature Pressure3pm.\n",
      " --> Imputing 370 missing values with median (5.0) in feature Cloud9am.\n",
      " --> Imputing 387 missing values with median (5.0) in feature Cloud3pm.\n",
      " --> Imputing 5 missing values with median (16.8) in feature Temp9am.\n",
      " --> Imputing 23 missing values with median (21.0) in feature Temp3pm.\n",
      " --> Imputing 10 missing values with most_frequent (No) in feature RainToday.\n",
      "Fitting Encoder...\n",
      "Encoding categorical columns...\n",
      " --> LeaveOneOut-encoding feature Location. Contains 49 classes.\n",
      " --> LeaveOneOut-encoding feature WindGustDir. Contains 16 classes.\n",
      " --> LeaveOneOut-encoding feature WindDir9am. Contains 16 classes.\n",
      " --> LeaveOneOut-encoding feature WindDir3pm. Contains 16 classes.\n",
      " --> Ordinal-encoding feature RainToday. Contains 2 classes.\n"
     ]
    }
   ],
   "source": [
    "atom.impute(strat_num=\"median\", strat_cat=\"most_frequent\")  \n",
    "atom.encode(strategy=\"LeaveOneOut\", max_onehot=8)"
   ]
  },
  {
   "cell_type": "code",
   "execution_count": 4,
   "id": "282546a1-012b-4ead-9441-55414d29d4ae",
   "metadata": {},
   "outputs": [
    {
     "name": "stdout",
     "output_type": "stream",
     "text": [
      "\n",
      "Training ========================= >>\n",
      "Models: LDA, AdaB\n",
      "Metric: roc_auc\n",
      "\n",
      "\n",
      "Running hyperparameter tuning for LinearDiscriminantAnalysis...\n",
      "| trial |  solver | shrinkage | roc_auc | best_roc_auc | time_trial | time_ht |    state |\n",
      "| ----- | ------- | --------- | ------- | ------------ | ---------- | ------- | -------- |\n",
      "| 0     |   eigen |      None |  0.8322 |       0.8322 |     0.152s |  0.152s | COMPLETE |\n",
      "| 1     |    lsqr |       1.0 |  0.7342 |       0.8322 |     0.146s |  0.298s | COMPLETE |\n",
      "| 2     |    lsqr |       0.7 |  0.8683 |       0.8683 |     0.143s |  0.441s | COMPLETE |\n",
      "| 3     |   eigen |       0.9 |  0.9182 |       0.9182 |     0.144s |  0.586s | COMPLETE |\n",
      "| 4     |   eigen |      None |  0.8322 |       0.9182 |     0.003s |  0.589s | COMPLETE |\n",
      "| 5     |     svd |       --- |  0.7723 |       0.9182 |     0.146s |  0.735s | COMPLETE |\n",
      "| 6     |     svd |       --- |  0.7723 |       0.9182 |     0.002s |  0.737s | COMPLETE |\n",
      "| 7     |     svd |       --- |  0.7723 |       0.9182 |     0.002s |  0.739s | COMPLETE |\n",
      "| 8     |   eigen |       0.6 |  0.8656 |       0.9182 |     0.144s |  0.883s | COMPLETE |\n",
      "| 9     |    lsqr |       0.5 |  0.8354 |       0.9182 |     0.141s |  1.024s | COMPLETE |\n",
      "Hyperparameter tuning ---------------------------\n",
      "Best trial --> 3\n",
      "Best parameters:\n",
      " --> solver: eigen\n",
      " --> shrinkage: 0.9\n",
      "Best evaluation --> roc_auc: 0.9182\n",
      "Time elapsed: 1.024s\n",
      "Fit ---------------------------------------------\n",
      "Train evaluation --> roc_auc: 0.816\n",
      "Test evaluation --> roc_auc: 0.8364\n",
      "Time elapsed: 0.014s\n",
      "-------------------------------------------------\n",
      "Total time: 1.038s\n",
      "\n",
      "\n",
      "Running hyperparameter tuning for AdaBoost...\n",
      "| trial | n_estimators | learning_rate | algorithm | roc_auc | best_roc_auc | time_trial | time_ht |    state |\n",
      "| ----- | ------------ | ------------- | --------- | ------- | ------------ | ---------- | ------- | -------- |\n",
      "| 0     |          110 |        0.0293 |   SAMME.R |  0.7373 |       0.7373 |     0.336s |  0.336s | COMPLETE |\n",
      "| 1     |          420 |        7.7286 |     SAMME |    0.62 |       0.7373 |     0.786s |  1.122s | COMPLETE |\n",
      "| 2     |          170 |        0.0909 |     SAMME |  0.8359 |       0.8359 |     0.403s |  1.525s | COMPLETE |\n",
      "| 3     |          240 |        1.1147 |   SAMME.R |  0.7657 |       0.8359 |     0.545s |  2.071s | COMPLETE |\n",
      "| 4     |          260 |        0.6667 |     SAMME |  0.7673 |       0.8359 |     0.555s |  2.625s | COMPLETE |\n",
      "| 5     |          180 |        0.0458 |   SAMME.R |  0.7367 |       0.8359 |     0.453s |  3.079s | COMPLETE |\n",
      "| 6     |          300 |        0.3081 |     SAMME |  0.8322 |       0.8359 |     0.616s |  3.694s | COMPLETE |\n",
      "| 7     |          340 |        1.1667 |   SAMME.R |   0.664 |       0.8359 |     0.733s |  4.427s | COMPLETE |\n",
      "| 8     |          160 |        7.0415 |   SAMME.R |  0.6733 |       0.8359 |     0.425s |  4.852s | COMPLETE |\n",
      "| 9     |          290 |        0.5055 |   SAMME.R |  0.7035 |       0.8359 |     0.644s |  5.496s | COMPLETE |\n",
      "Hyperparameter tuning ---------------------------\n",
      "Best trial --> 2\n",
      "Best parameters:\n",
      " --> n_estimators: 170\n",
      " --> learning_rate: 0.0909\n",
      " --> algorithm: SAMME\n",
      "Best evaluation --> roc_auc: 0.8359\n",
      "Time elapsed: 5.496s\n",
      "Fit ---------------------------------------------\n",
      "Train evaluation --> roc_auc: 0.8902\n",
      "Test evaluation --> roc_auc: 0.81\n",
      "Time elapsed: 0.309s\n",
      "-------------------------------------------------\n",
      "Total time: 5.805s\n",
      "\n",
      "\n",
      "Final results ==================== >>\n",
      "Total time: 7.029s\n",
      "-------------------------------------\n",
      "LinearDiscriminantAnalysis --> roc_auc: 0.8364 !\n",
      "AdaBoost                   --> roc_auc: 0.81\n"
     ]
    }
   ],
   "source": [
    "atom.run(models=[\"LDA\", \"AdaB\"], metric=\"auc\", n_trials=10)"
   ]
  },
  {
   "cell_type": "code",
   "execution_count": 5,
   "id": "6a5dd6a4-0371-4cc8-aa47-db02b5771fb2",
   "metadata": {},
   "outputs": [
    {
     "data": {
      "text/html": [
       "<div>\n",
       "<style scoped>\n",
       "    .dataframe tbody tr th:only-of-type {\n",
       "        vertical-align: middle;\n",
       "    }\n",
       "\n",
       "    .dataframe tbody tr th {\n",
       "        vertical-align: top;\n",
       "    }\n",
       "\n",
       "    .dataframe thead th {\n",
       "        text-align: right;\n",
       "    }\n",
       "</style>\n",
       "<table border=\"1\" class=\"dataframe\">\n",
       "  <thead>\n",
       "    <tr style=\"text-align: right;\">\n",
       "      <th></th>\n",
       "      <th>accuracy</th>\n",
       "      <th>average_precision</th>\n",
       "      <th>balanced_accuracy</th>\n",
       "      <th>f1</th>\n",
       "      <th>jaccard</th>\n",
       "      <th>matthews_corrcoef</th>\n",
       "      <th>precision</th>\n",
       "      <th>recall</th>\n",
       "      <th>roc_auc</th>\n",
       "    </tr>\n",
       "  </thead>\n",
       "  <tbody>\n",
       "    <tr>\n",
       "      <th>LDA</th>\n",
       "      <td>0.775</td>\n",
       "      <td>0.6305</td>\n",
       "      <td>0.7334</td>\n",
       "      <td>0.5631</td>\n",
       "      <td>0.3919</td>\n",
       "      <td>0.4240</td>\n",
       "      <td>0.4915</td>\n",
       "      <td>0.6591</td>\n",
       "      <td>0.8364</td>\n",
       "    </tr>\n",
       "    <tr>\n",
       "      <th>AdaB</th>\n",
       "      <td>0.815</td>\n",
       "      <td>0.5364</td>\n",
       "      <td>0.6122</td>\n",
       "      <td>0.3729</td>\n",
       "      <td>0.2292</td>\n",
       "      <td>0.3529</td>\n",
       "      <td>0.7333</td>\n",
       "      <td>0.2500</td>\n",
       "      <td>0.8100</td>\n",
       "    </tr>\n",
       "  </tbody>\n",
       "</table>\n",
       "</div>"
      ],
      "text/plain": [
       "      accuracy  average_precision  balanced_accuracy      f1  jaccard  \\\n",
       "LDA      0.775             0.6305             0.7334  0.5631   0.3919   \n",
       "AdaB     0.815             0.5364             0.6122  0.3729   0.2292   \n",
       "\n",
       "      matthews_corrcoef  precision  recall  roc_auc  \n",
       "LDA              0.4240     0.4915  0.6591   0.8364  \n",
       "AdaB             0.3529     0.7333  0.2500   0.8100  "
      ]
     },
     "execution_count": 5,
     "metadata": {},
     "output_type": "execute_result"
    }
   ],
   "source": [
    "atom.evaluate()"
   ]
  }
 ],
 "metadata": {
  "kernelspec": {
   "display_name": "Python 3 (ipykernel)",
   "language": "python",
   "name": "python3"
  },
  "language_info": {
   "codemirror_mode": {
    "name": "ipython",
    "version": 3
   },
   "file_extension": ".py",
   "mimetype": "text/x-python",
   "name": "python",
   "nbconvert_exporter": "python",
   "pygments_lexer": "ipython3",
   "version": "3.10.2"
  }
 },
 "nbformat": 4,
 "nbformat_minor": 5
}

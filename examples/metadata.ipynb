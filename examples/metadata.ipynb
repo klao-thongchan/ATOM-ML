{
 "cells": [
  {
   "cell_type": "markdown",
   "metadata": {},
   "source": [
    "# Example: Metadata\n",
    "-------------------\n",
    "\n",
    "This example shows how to add metadata like `groups` and `sample_weight` to atom.\n",
    "\n",
    "Import the wine dataset from [sklearn.datasets](https://scikit-learn.org/stable/datasets/index.html#breast-cancer-wisconsin-diagnostic-dataset). This is a small and easy to train dataset whose goal is to predict wines into three groups (which cultivator it's from) using features based on the results of chemical analysis."
   ]
  },
  {
   "cell_type": "markdown",
   "metadata": {},
   "source": [
    "## Load the data"
   ]
  },
  {
   "cell_type": "code",
   "execution_count": 1,
   "metadata": {},
   "outputs": [],
   "source": [
    "# Import packages\n",
    "import numpy as np\n",
    "from sklearn.datasets import load_wine\n",
    "from atom import ATOMClassifier"
   ]
  },
  {
   "cell_type": "code",
   "execution_count": 2,
   "metadata": {},
   "outputs": [
    {
     "data": {
      "text/html": [
       "<div>\n",
       "<style scoped>\n",
       "    .dataframe tbody tr th:only-of-type {\n",
       "        vertical-align: middle;\n",
       "    }\n",
       "\n",
       "    .dataframe tbody tr th {\n",
       "        vertical-align: top;\n",
       "    }\n",
       "\n",
       "    .dataframe thead th {\n",
       "        text-align: right;\n",
       "    }\n",
       "</style>\n",
       "<table border=\"1\" class=\"dataframe\">\n",
       "  <thead>\n",
       "    <tr style=\"text-align: right;\">\n",
       "      <th></th>\n",
       "      <th>alcohol</th>\n",
       "      <th>malic_acid</th>\n",
       "      <th>ash</th>\n",
       "      <th>alcalinity_of_ash</th>\n",
       "      <th>magnesium</th>\n",
       "      <th>total_phenols</th>\n",
       "      <th>flavanoids</th>\n",
       "      <th>nonflavanoid_phenols</th>\n",
       "      <th>proanthocyanins</th>\n",
       "      <th>color_intensity</th>\n",
       "      <th>hue</th>\n",
       "      <th>od280/od315_of_diluted_wines</th>\n",
       "      <th>proline</th>\n",
       "    </tr>\n",
       "  </thead>\n",
       "  <tbody>\n",
       "    <tr>\n",
       "      <th>0</th>\n",
       "      <td>14.23</td>\n",
       "      <td>1.71</td>\n",
       "      <td>2.43</td>\n",
       "      <td>15.6</td>\n",
       "      <td>127.0</td>\n",
       "      <td>2.80</td>\n",
       "      <td>3.06</td>\n",
       "      <td>0.28</td>\n",
       "      <td>2.29</td>\n",
       "      <td>5.64</td>\n",
       "      <td>1.04</td>\n",
       "      <td>3.92</td>\n",
       "      <td>1065.0</td>\n",
       "    </tr>\n",
       "    <tr>\n",
       "      <th>1</th>\n",
       "      <td>13.20</td>\n",
       "      <td>1.78</td>\n",
       "      <td>2.14</td>\n",
       "      <td>11.2</td>\n",
       "      <td>100.0</td>\n",
       "      <td>2.65</td>\n",
       "      <td>2.76</td>\n",
       "      <td>0.26</td>\n",
       "      <td>1.28</td>\n",
       "      <td>4.38</td>\n",
       "      <td>1.05</td>\n",
       "      <td>3.40</td>\n",
       "      <td>1050.0</td>\n",
       "    </tr>\n",
       "    <tr>\n",
       "      <th>2</th>\n",
       "      <td>13.16</td>\n",
       "      <td>2.36</td>\n",
       "      <td>2.67</td>\n",
       "      <td>18.6</td>\n",
       "      <td>101.0</td>\n",
       "      <td>2.80</td>\n",
       "      <td>3.24</td>\n",
       "      <td>0.30</td>\n",
       "      <td>2.81</td>\n",
       "      <td>5.68</td>\n",
       "      <td>1.03</td>\n",
       "      <td>3.17</td>\n",
       "      <td>1185.0</td>\n",
       "    </tr>\n",
       "    <tr>\n",
       "      <th>3</th>\n",
       "      <td>14.37</td>\n",
       "      <td>1.95</td>\n",
       "      <td>2.50</td>\n",
       "      <td>16.8</td>\n",
       "      <td>113.0</td>\n",
       "      <td>3.85</td>\n",
       "      <td>3.49</td>\n",
       "      <td>0.24</td>\n",
       "      <td>2.18</td>\n",
       "      <td>7.80</td>\n",
       "      <td>0.86</td>\n",
       "      <td>3.45</td>\n",
       "      <td>1480.0</td>\n",
       "    </tr>\n",
       "    <tr>\n",
       "      <th>4</th>\n",
       "      <td>13.24</td>\n",
       "      <td>2.59</td>\n",
       "      <td>2.87</td>\n",
       "      <td>21.0</td>\n",
       "      <td>118.0</td>\n",
       "      <td>2.80</td>\n",
       "      <td>2.69</td>\n",
       "      <td>0.39</td>\n",
       "      <td>1.82</td>\n",
       "      <td>4.32</td>\n",
       "      <td>1.04</td>\n",
       "      <td>2.93</td>\n",
       "      <td>735.0</td>\n",
       "    </tr>\n",
       "  </tbody>\n",
       "</table>\n",
       "</div>"
      ],
      "text/plain": [
       "   alcohol  malic_acid   ash  alcalinity_of_ash  magnesium  total_phenols  \\\n",
       "0    14.23        1.71  2.43               15.6      127.0           2.80   \n",
       "1    13.20        1.78  2.14               11.2      100.0           2.65   \n",
       "2    13.16        2.36  2.67               18.6      101.0           2.80   \n",
       "3    14.37        1.95  2.50               16.8      113.0           3.85   \n",
       "4    13.24        2.59  2.87               21.0      118.0           2.80   \n",
       "\n",
       "   flavanoids  nonflavanoid_phenols  proanthocyanins  color_intensity   hue  \\\n",
       "0        3.06                  0.28             2.29             5.64  1.04   \n",
       "1        2.76                  0.26             1.28             4.38  1.05   \n",
       "2        3.24                  0.30             2.81             5.68  1.03   \n",
       "3        3.49                  0.24             2.18             7.80  0.86   \n",
       "4        2.69                  0.39             1.82             4.32  1.04   \n",
       "\n",
       "   od280/od315_of_diluted_wines  proline  \n",
       "0                          3.92   1065.0  \n",
       "1                          3.40   1050.0  \n",
       "2                          3.17   1185.0  \n",
       "3                          3.45   1480.0  \n",
       "4                          2.93    735.0  "
      ]
     },
     "execution_count": 2,
     "metadata": {},
     "output_type": "execute_result"
    }
   ],
   "source": [
    "# Load data\n",
    "X, y = load_wine(return_X_y=True, as_frame=True)\n",
    "\n",
    "# Let's have a look\n",
    "X.head()"
   ]
  },
  {
   "cell_type": "code",
   "execution_count": 3,
   "metadata": {},
   "outputs": [
    {
     "data": {
      "text/plain": [
       "array([0, 4, 0, 3, 3, 3, 4, 4, 2, 3, 3, 4, 4, 3, 0, 1, 0, 2, 3, 4, 0, 1,\n",
       "       2, 3, 3, 2, 1, 2, 2, 0, 4, 4, 2, 2, 4, 4, 3, 1, 2, 2, 1, 0, 1, 4,\n",
       "       2, 2, 4, 3, 4, 4, 3, 4, 3, 3, 1, 3, 3, 0, 1, 4, 0, 0, 2, 0, 1, 3,\n",
       "       4, 3, 3, 4, 4, 1, 0, 2, 3, 1, 1, 3, 0, 1, 1, 3, 4, 4, 4, 0, 1, 4,\n",
       "       2, 3, 3, 1, 4, 4, 3, 4, 4, 4, 4, 4, 1, 2, 2, 1, 1, 3, 3, 1, 1, 0,\n",
       "       4, 0, 0, 2, 4, 4, 2, 3, 1, 3, 1, 4, 1, 3, 0, 4, 1, 0, 2, 1, 0, 4,\n",
       "       1, 2, 3, 3, 2, 3, 2, 3, 3, 0, 3, 1, 3, 1, 3, 4, 3, 2, 4, 4, 4, 3,\n",
       "       0, 3, 3, 3, 1, 2, 1, 2, 0, 4, 1, 0, 0, 1, 1, 4, 0, 3, 2, 1, 1, 1,\n",
       "       2, 2])"
      ]
     },
     "execution_count": 3,
     "metadata": {},
     "output_type": "execute_result"
    }
   ],
   "source": [
    "# Create (dummy) groups and sample_weights for the rows\n",
    "groups = np.random.randint(5, size=X.shape[0])\n",
    "sample_weight = np.random.randint(5, size=X.shape[0])\n",
    "groups"
   ]
  },
  {
   "cell_type": "markdown",
   "metadata": {},
   "source": [
    "## Run the pipeline"
   ]
  },
  {
   "cell_type": "markdown",
   "metadata": {},
   "source": [
    "Add the metadata to the constructor. We leave `index=True` to prove the group funtioality works.  \n",
    "When groups are specified, `test_size` specifies the number of groups in the test set."
   ]
  },
  {
   "cell_type": "code",
   "execution_count": 4,
   "metadata": {},
   "outputs": [
    {
     "name": "stdout",
     "output_type": "stream",
     "text": [
      "<< ================== ATOM ================== >>\n",
      "\n",
      "Configuration ==================== >>\n",
      "Algorithm task: Multiclass classification.\n",
      "\n",
      "Dataset stats ==================== >>\n",
      "Shape: (178, 14)\n",
      "Train set size: 149\n",
      "Test set size: 29\n",
      "-------------------------------------\n",
      "Memory: 24.82 kB\n",
      "Scaled: False\n",
      "Outlier values: 9 (0.4%)\n",
      "\n"
     ]
    }
   ],
   "source": [
    "atom = ATOMClassifier(\n",
    "    X,\n",
    "    y=y,\n",
    "    index=True,\n",
    "    metadata={\"groups\": groups, \"sample_weight\": sample_weight},\n",
    "    test_size=1,\n",
    "    verbose=2,\n",
    "    random_state=1,\n",
    ")"
   ]
  },
  {
   "cell_type": "code",
   "execution_count": 5,
   "metadata": {},
   "outputs": [
    {
     "data": {
      "text/plain": [
       "138    2\n",
       "172    2\n",
       "88     2\n",
       "25     2\n",
       "133    2\n",
       "116    2\n",
       "128    2\n",
       "38     2\n",
       "102    2\n",
       "22     2\n",
       "159    2\n",
       "62     2\n",
       "39     2\n",
       "113    2\n",
       "101    2\n",
       "44     2\n",
       "45     2\n",
       "177    2\n",
       "32     2\n",
       "8      2\n",
       "33     2\n",
       "27     2\n",
       "161    2\n",
       "176    2\n",
       "17     2\n",
       "28     2\n",
       "149    2\n",
       "73     2\n",
       "136    2\n",
       "Name: target, dtype: int64"
      ]
     },
     "execution_count": 5,
     "metadata": {},
     "output_type": "execute_result"
    }
   ],
   "source": [
    "# Show all rows in the test set belong to the same group\n",
    "atom.metadata[\"groups\"].loc[atom.test.index]"
   ]
  },
  {
   "cell_type": "code",
   "execution_count": null,
   "metadata": {},
   "outputs": [],
   "source": []
  },
  {
   "cell_type": "markdown",
   "metadata": {},
   "source": [
    "## Analyze the results"
   ]
  },
  {
   "cell_type": "code",
   "execution_count": 6,
   "metadata": {},
   "outputs": [
    {
     "data": {
      "text/html": [
       "<style type=\"text/css\">\n",
       "</style>\n",
       "<table id=\"T_b3b8a\">\n",
       "  <thead>\n",
       "  </thead>\n",
       "  <tbody>\n",
       "    <tr>\n",
       "      <th id=\"T_b3b8a_level0_row0\" class=\"row_heading level0 row0\" >None</th>\n",
       "    </tr>\n",
       "  </tbody>\n",
       "</table>\n"
      ],
      "text/plain": [
       "<pandas.io.formats.style.Styler at 0x2950b025890>"
      ]
     },
     "execution_count": 6,
     "metadata": {},
     "output_type": "execute_result"
    }
   ],
   "source": [
    "atom.results"
   ]
  },
  {
   "cell_type": "code",
   "execution_count": 7,
   "metadata": {},
   "outputs": [
    {
     "ename": "NotFittedError",
     "evalue": "This ATOMClassifier instance is not yet fitted. Call run with appropriate arguments before using this object.",
     "output_type": "error",
     "traceback": [
      "\u001b[1;31m---------------------------------------------------------------------------\u001b[0m",
      "\u001b[1;31mNotFittedError\u001b[0m                            Traceback (most recent call last)",
      "Cell \u001b[1;32mIn[7], line 2\u001b[0m\n\u001b[0;32m      1\u001b[0m \u001b[38;5;66;03m# Show the score for some different metrics\u001b[39;00m\n\u001b[1;32m----> 2\u001b[0m \u001b[43matom\u001b[49m\u001b[38;5;241;43m.\u001b[39;49m\u001b[43mevaluate\u001b[49m\u001b[43m(\u001b[49m\u001b[43m[\u001b[49m\u001b[38;5;124;43m\"\u001b[39;49m\u001b[38;5;124;43mprecision_macro\u001b[39;49m\u001b[38;5;124;43m\"\u001b[39;49m\u001b[43m,\u001b[49m\u001b[43m \u001b[49m\u001b[38;5;124;43m\"\u001b[39;49m\u001b[38;5;124;43mrecall_macro\u001b[39;49m\u001b[38;5;124;43m\"\u001b[39;49m\u001b[43m,\u001b[49m\u001b[43m \u001b[49m\u001b[38;5;124;43m\"\u001b[39;49m\u001b[38;5;124;43mjaccard_weighted\u001b[39;49m\u001b[38;5;124;43m\"\u001b[39;49m\u001b[43m]\u001b[49m\u001b[43m)\u001b[49m\n",
      "File \u001b[1;32m~\\Documents\\Python\\ATOM\\atom\\utils\\utils.py:2709\u001b[0m, in \u001b[0;36mcrash.<locals>.wrapper\u001b[1;34m(*args, **kwargs)\u001b[0m\n\u001b[0;32m   2706\u001b[0m     cache[\u001b[38;5;124m\"\u001b[39m\u001b[38;5;124mlast_exception\u001b[39m\u001b[38;5;124m\"\u001b[39m] \u001b[38;5;241m=\u001b[39m ex\n\u001b[0;32m   2707\u001b[0m     args[\u001b[38;5;241m0\u001b[39m]\u001b[38;5;241m.\u001b[39mlogger\u001b[38;5;241m.\u001b[39mexception(\u001b[38;5;124m\"\u001b[39m\u001b[38;5;124mException encountered:\u001b[39m\u001b[38;5;124m\"\u001b[39m)\n\u001b[1;32m-> 2709\u001b[0m \u001b[38;5;28;01mraise\u001b[39;00m ex\n",
      "File \u001b[1;32m~\\Documents\\Python\\ATOM\\atom\\utils\\utils.py:2701\u001b[0m, in \u001b[0;36mcrash.<locals>.wrapper\u001b[1;34m(*args, **kwargs)\u001b[0m\n\u001b[0;32m   2698\u001b[0m \u001b[38;5;129m@wraps\u001b[39m(f)\n\u001b[0;32m   2699\u001b[0m \u001b[38;5;28;01mdef\u001b[39;00m \u001b[38;5;21mwrapper\u001b[39m(\u001b[38;5;241m*\u001b[39margs, \u001b[38;5;241m*\u001b[39m\u001b[38;5;241m*\u001b[39mkwargs) \u001b[38;5;241m-\u001b[39m\u001b[38;5;241m>\u001b[39m Any:\n\u001b[0;32m   2700\u001b[0m     \u001b[38;5;28;01mtry\u001b[39;00m:  \u001b[38;5;66;03m# Run the function\u001b[39;00m\n\u001b[1;32m-> 2701\u001b[0m         \u001b[38;5;28;01mreturn\u001b[39;00m \u001b[43mf\u001b[49m\u001b[43m(\u001b[49m\u001b[38;5;241;43m*\u001b[39;49m\u001b[43margs\u001b[49m\u001b[43m,\u001b[49m\u001b[43m \u001b[49m\u001b[38;5;241;43m*\u001b[39;49m\u001b[38;5;241;43m*\u001b[39;49m\u001b[43mkwargs\u001b[49m\u001b[43m)\u001b[49m\n\u001b[0;32m   2703\u001b[0m     \u001b[38;5;28;01mexcept\u001b[39;00m \u001b[38;5;167;01mException\u001b[39;00m \u001b[38;5;28;01mas\u001b[39;00m ex:\n\u001b[0;32m   2704\u001b[0m         \u001b[38;5;66;03m# If exception is not the same as last, write to log\u001b[39;00m\n\u001b[0;32m   2705\u001b[0m         \u001b[38;5;28;01mif\u001b[39;00m ex \u001b[38;5;129;01mis\u001b[39;00m \u001b[38;5;129;01mnot\u001b[39;00m cache[\u001b[38;5;124m\"\u001b[39m\u001b[38;5;124mlast_exception\u001b[39m\u001b[38;5;124m\"\u001b[39m] \u001b[38;5;129;01mand\u001b[39;00m \u001b[38;5;28mgetattr\u001b[39m(args[\u001b[38;5;241m0\u001b[39m], \u001b[38;5;124m\"\u001b[39m\u001b[38;5;124mlogger\u001b[39m\u001b[38;5;124m\"\u001b[39m, \u001b[38;5;28;01mNone\u001b[39;00m):\n",
      "File \u001b[1;32m<@beartype(atom.baserunner.BaseRunner.evaluate) at 0x29566bce340>:139\u001b[0m, in \u001b[0;36mevaluate\u001b[1;34m(__beartype_object_2840417673856, __beartype_object_2839062645920, __beartype_object_2840351847776, __beartype_object_2840351848256, __beartype_object_2840327195328, __beartype_object_2840327182640, __beartype_get_violation, __beartype_conf, __beartype_object_2840503988288, __beartype_object_2840351838656, __beartype_object_2840351839136, __beartype_object_2840351839936, __beartype_object_2840351840416, __beartype_object_2840351777920, __beartype_object_2840697038272, __beartype_object_2840697038752, __beartype_object_2840695186496, __beartype_object_2840229350752, __beartype_func, *args, **kwargs)\u001b[0m\n",
      "File \u001b[1;32m~\\Documents\\Python\\ATOM\\atom\\baserunner.py:1114\u001b[0m, in \u001b[0;36mBaseRunner.evaluate\u001b[1;34m(self, metric, rows, threshold)\u001b[0m\n\u001b[0;32m   1075\u001b[0m \u001b[38;5;129m@composed\u001b[39m(crash, beartype)\n\u001b[0;32m   1076\u001b[0m \u001b[38;5;28;01mdef\u001b[39;00m \u001b[38;5;21mevaluate\u001b[39m(\n\u001b[0;32m   1077\u001b[0m     \u001b[38;5;28mself\u001b[39m,\n\u001b[1;32m   (...)\u001b[0m\n\u001b[0;32m   1081\u001b[0m     threshold: FloatZeroToOneExc \u001b[38;5;241m|\u001b[39m Sequence[FloatZeroToOneExc] \u001b[38;5;241m=\u001b[39m \u001b[38;5;241m0.5\u001b[39m,\n\u001b[0;32m   1082\u001b[0m ) \u001b[38;5;241m-\u001b[39m\u001b[38;5;241m>\u001b[39m Styler:\n\u001b[0;32m   1083\u001b[0m \u001b[38;5;250m    \u001b[39m\u001b[38;5;124;03m\"\"\"Get all models' scores for the provided metrics.\u001b[39;00m\n\u001b[0;32m   1084\u001b[0m \n\u001b[0;32m   1085\u001b[0m \u001b[38;5;124;03m    Parameters\u001b[39;00m\n\u001b[1;32m   (...)\u001b[0m\n\u001b[0;32m   1112\u001b[0m \n\u001b[0;32m   1113\u001b[0m \u001b[38;5;124;03m    \"\"\"\u001b[39;00m\n\u001b[1;32m-> 1114\u001b[0m     \u001b[43mcheck_is_fitted\u001b[49m\u001b[43m(\u001b[49m\u001b[38;5;28;43mself\u001b[39;49m\u001b[43m)\u001b[49m\n\u001b[0;32m   1116\u001b[0m     df \u001b[38;5;241m=\u001b[39m pd\u001b[38;5;241m.\u001b[39mDataFrame([m\u001b[38;5;241m.\u001b[39mevaluate(metric, rows, threshold\u001b[38;5;241m=\u001b[39mthreshold) \u001b[38;5;28;01mfor\u001b[39;00m m \u001b[38;5;129;01min\u001b[39;00m \u001b[38;5;28mself\u001b[39m\u001b[38;5;241m.\u001b[39m_models])\n\u001b[0;32m   1118\u001b[0m     \u001b[38;5;28;01mreturn\u001b[39;00m df\u001b[38;5;241m.\u001b[39mstyle\u001b[38;5;241m.\u001b[39mhighlight_max(props\u001b[38;5;241m=\u001b[39m\u001b[38;5;124m\"\u001b[39m\u001b[38;5;124mbackground-color: lightgreen\u001b[39m\u001b[38;5;124m\"\u001b[39m)\n",
      "File \u001b[1;32m~\\Documents\\Python\\ATOM\\atom\\utils\\utils.py:2093\u001b[0m, in \u001b[0;36mcheck_is_fitted\u001b[1;34m(obj, exception, attributes)\u001b[0m\n\u001b[0;32m   2064\u001b[0m \u001b[38;5;250m\u001b[39m\u001b[38;5;124;03m\"\"\"Check whether an estimator is fitted.\u001b[39;00m\n\u001b[0;32m   2065\u001b[0m \n\u001b[0;32m   2066\u001b[0m \u001b[38;5;124;03mChecks if the estimator is fitted by verifying the presence of\u001b[39;00m\n\u001b[1;32m   (...)\u001b[0m\n\u001b[0;32m   2090\u001b[0m \n\u001b[0;32m   2091\u001b[0m \u001b[38;5;124;03m\"\"\"\u001b[39;00m\n\u001b[0;32m   2092\u001b[0m \u001b[38;5;28;01mif\u001b[39;00m \u001b[38;5;129;01mnot\u001b[39;00m (is_fitted \u001b[38;5;241m:=\u001b[39m _is_fitted(obj, attributes)) \u001b[38;5;129;01mand\u001b[39;00m exception:\n\u001b[1;32m-> 2093\u001b[0m     \u001b[38;5;28;01mraise\u001b[39;00m NotFittedError(\n\u001b[0;32m   2094\u001b[0m         \u001b[38;5;124mf\u001b[39m\u001b[38;5;124m\"\u001b[39m\u001b[38;5;124mThis \u001b[39m\u001b[38;5;132;01m{\u001b[39;00m\u001b[38;5;28mtype\u001b[39m(obj)\u001b[38;5;241m.\u001b[39m\u001b[38;5;18m__name__\u001b[39m\u001b[38;5;132;01m}\u001b[39;00m\u001b[38;5;124m instance is not yet fitted. \u001b[39m\u001b[38;5;124m\"\u001b[39m\n\u001b[0;32m   2095\u001b[0m         \u001b[38;5;124mf\u001b[39m\u001b[38;5;124m\"\u001b[39m\u001b[38;5;124mCall \u001b[39m\u001b[38;5;132;01m{\u001b[39;00m\u001b[38;5;124m'\u001b[39m\u001b[38;5;124mrun\u001b[39m\u001b[38;5;124m'\u001b[39m\u001b[38;5;250m \u001b[39m\u001b[38;5;28;01mif\u001b[39;00m\u001b[38;5;250m \u001b[39m\u001b[38;5;28mhasattr\u001b[39m(obj,\u001b[38;5;250m \u001b[39m\u001b[38;5;124m'\u001b[39m\u001b[38;5;124mrun\u001b[39m\u001b[38;5;124m'\u001b[39m)\u001b[38;5;250m \u001b[39m\u001b[38;5;28;01melse\u001b[39;00m\u001b[38;5;250m \u001b[39m\u001b[38;5;124m'\u001b[39m\u001b[38;5;124mfit\u001b[39m\u001b[38;5;124m'\u001b[39m\u001b[38;5;132;01m}\u001b[39;00m\u001b[38;5;124m with \u001b[39m\u001b[38;5;124m\"\u001b[39m\n\u001b[0;32m   2096\u001b[0m         \u001b[38;5;124m\"\u001b[39m\u001b[38;5;124mappropriate arguments before using this object.\u001b[39m\u001b[38;5;124m\"\u001b[39m\n\u001b[0;32m   2097\u001b[0m     )\n\u001b[0;32m   2099\u001b[0m \u001b[38;5;28;01mreturn\u001b[39;00m is_fitted\n",
      "\u001b[1;31mNotFittedError\u001b[0m: This ATOMClassifier instance is not yet fitted. Call run with appropriate arguments before using this object."
     ]
    }
   ],
   "source": [
    "# Show the score for some different metrics\n",
    "atom.evaluate([\"precision_macro\", \"recall_macro\", \"jaccard_weighted\"])"
   ]
  },
  {
   "cell_type": "code",
   "execution_count": null,
   "metadata": {},
   "outputs": [],
   "source": [
    "# Some plots allow you to choose the target class to look at\n",
    "atom.rf.plot_probabilities(rows=\"train\", target=0)"
   ]
  },
  {
   "cell_type": "code",
   "execution_count": null,
   "metadata": {},
   "outputs": [],
   "source": [
    "atom.lda.plot_shap_heatmap(target=2, show=7)"
   ]
  }
 ],
 "metadata": {
  "kernelspec": {
   "display_name": "Python 3 (ipykernel)",
   "language": "python",
   "name": "python3"
  },
  "language_info": {
   "codemirror_mode": {
    "name": "ipython",
    "version": 3
   },
   "file_extension": ".py",
   "mimetype": "text/x-python",
   "name": "python",
   "nbconvert_exporter": "python",
   "pygments_lexer": "ipython3",
   "version": "3.11.2"
  },
  "toc": {
   "base_numbering": 1,
   "nav_menu": {},
   "number_sections": true,
   "sideBar": true,
   "skip_h1_title": false,
   "title_cell": "Table of Contents",
   "title_sidebar": "Contents",
   "toc_cell": false,
   "toc_position": {},
   "toc_section_display": true,
   "toc_window_display": false
  }
 },
 "nbformat": 4,
 "nbformat_minor": 4
}

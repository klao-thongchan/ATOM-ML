{
 "cells": [
  {
   "cell_type": "markdown",
   "metadata": {
    "pycharm": {
     "name": "#%% md\n"
    }
   },
   "source": [
    "# Deep learning\n",
    "---------------------------\n",
    "\n",
    "This example shows how to use ATOM to train and validate a Convolutional Neural Network implemented with [Keras](https://keras.io/) using [scikeras](https://www.adriangb.com/scikeras/refs/heads/master/index.html).\n",
    "\n",
    "Import the MNIST dataset from [keras.datasets](https://keras.io/api/datasets/mnist/). This is a well known image dataset whose goal is to classify handwritten digits."
   ]
  },
  {
   "cell_type": "markdown",
   "metadata": {
    "pycharm": {
     "name": "#%% md\n"
    }
   },
   "source": [
    "## Using scikeras"
   ]
  },
  {
   "cell_type": "code",
   "execution_count": 1,
   "metadata": {
    "pycharm": {
     "name": "#%%\n"
    }
   },
   "outputs": [],
   "source": [
    "# Disable annoying tf warnings\n",
    "import logging\n",
    "import tensorflow as tf\n",
    "tf.get_logger().setLevel(logging.ERROR)\n",
    "\n",
    "from atom import ATOMClassifier, ATOMModel\n",
    "from sklearn.preprocessing import FunctionTransformer\n",
    "from skopt.space.space import Categorical\n",
    "\n",
    "from scikeras.wrappers import KerasClassifier\n",
    "from keras.datasets import mnist\n",
    "from keras.models import Sequential\n",
    "from keras.layers import Dense, Flatten, Conv2D, Dropout"
   ]
  },
  {
   "cell_type": "code",
   "execution_count": 2,
   "metadata": {
    "pycharm": {
     "name": "#%%\n"
    }
   },
   "outputs": [],
   "source": [
    "# Create the convolutional neural network\n",
    "class ConvNN(KerasClassifier):\n",
    "    \"\"\"Convolutional neural network model.\"\"\"\n",
    "\n",
    "    @property\n",
    "    def feature_encoder(self):\n",
    "        \"\"\"Convert the 2d input to the image's format (len(X), 28, 28, 1).\"\"\"\n",
    "        return FunctionTransformer(\n",
    "            func=lambda X: X.reshape(X.shape[0], 28, 28, 1),\n",
    "        )\n",
    "\n",
    "    @staticmethod\n",
    "    def _keras_build_fn():\n",
    "        \"\"\"Create the model's architecture.\"\"\"\n",
    "        model = Sequential()\n",
    "        model.add(\n",
    "            Conv2D(\n",
    "                filters=64,\n",
    "                kernel_size=3,\n",
    "                activation=\"relu\",\n",
    "                input_shape=(28, 28, 1),\n",
    "            )\n",
    "        )\n",
    "        model.add(Conv2D(filters=64, kernel_size=3, activation=\"relu\"))\n",
    "        model.add(Flatten())\n",
    "        model.add(Dense(units=10, activation=\"softmax\"))\n",
    "        model.compile(\n",
    "            optimizer=\"adam\",\n",
    "            loss=\"sparse_categorical_crossentropy\",\n",
    "            metrics=[\"accuracy\"],\n",
    "        )\n",
    "\n",
    "        return model"
   ]
  },
  {
   "cell_type": "code",
   "execution_count": 3,
   "metadata": {
    "pycharm": {
     "name": "#%%\n"
    }
   },
   "outputs": [],
   "source": [
    "# Convert the model to an ATOM model\n",
    "model = ATOMModel(\n",
    "    estimator=ConvNN(epochs=5, verbose=0),\n",
    "    acronym=\"CNN\",\n",
    "    fullname=\"Neural network\",\n",
    ")"
   ]
  },
  {
   "cell_type": "code",
   "execution_count": 4,
   "metadata": {
    "pycharm": {
     "name": "#%%\n"
    }
   },
   "outputs": [],
   "source": [
    "# Download the MNIST dataset\n",
    "(X_train, y_train), (X_test, y_test) = mnist.load_data()\n",
    "\n",
    "# Flatten data to follow sklearn's API (2d input)\n",
    "X_train = X_train.reshape(len(X_train), -1)\n",
    "X_test = X_test.reshape(len(X_test), -1)\n",
    "\n",
    "data = (X_train, y_train), (X_test, y_test)"
   ]
  },
  {
   "cell_type": "code",
   "execution_count": 5,
   "metadata": {
    "pycharm": {
     "name": "#%%\n"
    }
   },
   "outputs": [
    {
     "name": "stdout",
     "output_type": "stream",
     "text": [
      "<< ================== ATOM ================== >>\n",
      "Algorithm task: multiclass classification.\n",
      "Parallel processing with 6 cores.\n",
      "\n",
      "Dataset stats ==================== >>\n",
      "Shape: (7000, 785)\n",
      "Memory: 5.50 MB\n",
      "Scaled: False\n",
      "Outlier values: 42381 (0.9%)\n",
      "-------------------------------------\n",
      "Train set size: 6000\n",
      "Test set size: 1000\n",
      "-------------------------------------\n",
      "|   |     dataset |       train |        test |\n",
      "| - | ----------- | ----------- | ----------- |\n",
      "| 0 |   666 (1.1) |   557 (1.0) |   109 (1.4) |\n",
      "| 1 |   803 (1.3) |   696 (1.3) |   107 (1.3) |\n",
      "| 2 |   704 (1.1) |   602 (1.1) |   102 (1.3) |\n",
      "| 3 |   730 (1.2) |   636 (1.2) |    94 (1.2) |\n",
      "| 4 |   668 (1.1) |   575 (1.1) |    93 (1.2) |\n",
      "| 5 |   626 (1.0) |   546 (1.0) |    80 (1.0) |\n",
      "| 6 |   727 (1.2) |   627 (1.1) |   100 (1.2) |\n",
      "| 7 |   735 (1.2) |   624 (1.1) |   111 (1.4) |\n",
      "| 8 |   678 (1.1) |   576 (1.1) |   102 (1.3) |\n",
      "| 9 |   663 (1.1) |   561 (1.0) |   102 (1.3) |\n",
      "\n"
     ]
    }
   ],
   "source": [
    "atom = ATOMClassifier(*data, n_rows=0.1, n_jobs=6, verbose=2, random_state=1)"
   ]
  },
  {
   "cell_type": "code",
   "execution_count": 6,
   "metadata": {
    "pycharm": {
     "name": "#%%\n"
    }
   },
   "outputs": [
    {
     "name": "stdout",
     "output_type": "stream",
     "text": [
      "\n",
      "Training ========================= >>\n",
      "Models: CNN\n",
      "Metric: f1_weighted\n",
      "\n",
      "\n",
      "Running BO for ConvNN...\n",
      "| call             | batch_size | f1_weighted | best_f1_weighted |    time | total_time |\n",
      "| ---------------- | ---------- | ----------- | ---------------- | ------- | ---------- |\n",
      "| Initial point 1  |        512 |      0.8403 |           0.8403 |  8.996s |     9.001s |\n",
      "| Initial point 2  |        512 |      0.8403 |           0.8403 |  0.000s |     9.001s |\n",
      "| Initial point 3  |         64 |      0.9533 |           0.9533 | 10.351s |    19.352s |\n",
      "| Initial point 4  |        512 |      0.8403 |           0.9533 |  0.005s |    19.357s |\n",
      "| Initial point 5  |        128 |      0.9544 |           0.9544 |  9.402s |    28.759s |\n",
      "Bayesian Optimization ---------------------------\n",
      "Best call --> Initial point 5\n",
      "Best parameters --> {'batch_size': 128}\n",
      "Best evaluation --> f1_weighted: 0.9544\n",
      "Time elapsed: 28.844s\n",
      "Fit ---------------------------------------------\n",
      "Train evaluation --> f1_weighted: 0.9933\n",
      "Test evaluation --> f1_weighted: 0.956\n",
      "Time elapsed: 11.865s\n",
      "-------------------------------------------------\n",
      "Total time: 40.709s\n",
      "\n",
      "\n",
      "Final results ==================== >>\n",
      "Total time: 40.709s\n",
      "-------------------------------------\n",
      "ConvNN --> f1_weighted: 0.956\n"
     ]
    }
   ],
   "source": [
    "# Like any other model, we can define custom dimensions for the bayesian optimization\n",
    "atom.run(\n",
    "    models=ConvNN(epochs=2, verbose=0),\n",
    "    metric=\"f1_weighted\",\n",
    "    n_trials=5,\n",
    "    ht_params={\n",
    "        \"dimensions\": [Categorical([64, 128, 256, 512], name=\"batch_size\")],\n",
    "        \"max_time\": 120,\n",
    "    }\n",
    ")"
   ]
  },
  {
   "cell_type": "markdown",
   "metadata": {
    "pycharm": {
     "name": "#%% md\n"
    }
   },
   "source": [
    "## Analyze the results"
   ]
  },
  {
   "cell_type": "code",
   "execution_count": 7,
   "metadata": {
    "pycharm": {
     "name": "#%%\n"
    }
   },
   "outputs": [
    {
     "data": {
      "text/plain": "array([[2.8391817e-08, 4.4040249e-08, 2.3452263e-07, ..., 6.9340032e-08,\n        1.0284645e-05, 1.0681032e-06],\n       [9.9997294e-01, 7.7521339e-10, 8.5381515e-07, ..., 8.2007329e-10,\n        4.8379098e-07, 7.2375428e-08],\n       [1.1600073e-12, 7.9232025e-09, 1.1343901e-08, ..., 4.9859716e-09,\n        5.7704619e-09, 2.4310918e-06],\n       ...,\n       [1.0547776e-09, 1.3450472e-09, 1.9687675e-11, ..., 4.5421866e-10,\n        1.9958454e-06, 3.4550787e-06],\n       [1.1692376e-05, 4.4343307e-09, 1.8230961e-05, ..., 1.8587252e-07,\n        5.3699559e-08, 1.1562508e-08],\n       [1.6405176e-05, 1.5701973e-08, 7.0015039e-06, ..., 5.4817119e-05,\n        9.9741423e-01, 2.2402678e-03]], dtype=float32)"
     },
     "execution_count": 7,
     "metadata": {},
     "output_type": "execute_result"
    }
   ],
   "source": [
    "# Use the prediction methods like any other model\n",
    "atom.cnn.predict_proba(X_train)"
   ]
  },
  {
   "cell_type": "code",
   "execution_count": 8,
   "metadata": {
    "pycharm": {
     "name": "#%%\n"
    }
   },
   "outputs": [
    {
     "data": {
      "text/plain": "<Figure size 576x432 with 2 Axes>",
      "image/png": "[encoded data removed]"
     },
     "metadata": {
      "needs_background": "light"
     },
     "output_type": "display_data"
    }
   ],
   "source": [
    "# Or make plots...\n",
    "atom.cnn.plot_confusion_matrix()"
   ]
  }
 ],
 "metadata": {
  "kernelspec": {
   "display_name": "Python 3 (ipykernel)",
   "language": "python",
   "name": "python3"
  },
  "language_info": {
   "codemirror_mode": {
    "name": "ipython",
    "version": 3
   },
   "file_extension": ".py",
   "mimetype": "text/x-python",
   "name": "python",
   "nbconvert_exporter": "python",
   "pygments_lexer": "ipython3",
   "version": "3.10.2"
  },
  "toc": {
   "base_numbering": 1,
   "nav_menu": {},
   "number_sections": true,
   "sideBar": true,
   "skip_h1_title": false,
   "title_cell": "Table of Contents",
   "title_sidebar": "Contents",
   "toc_cell": false,
   "toc_position": {},
   "toc_section_display": true,
   "toc_window_display": false
  }
 },
 "nbformat": 4,
 "nbformat_minor": 4
}

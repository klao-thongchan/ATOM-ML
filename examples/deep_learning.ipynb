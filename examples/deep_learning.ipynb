{
 "cells": [
  {
   "cell_type": "markdown",
   "metadata": {
    "pycharm": {
     "name": "#%% md\n"
    }
   },
   "source": [
    "# Deep learning\n",
    "---------------------------\n",
    "\n",
    "This example shows how to use ATOM to train and validate a Convolutional Neural Network implemented with [Keras](https://keras.io/) in two different ways: using [scikeras](https://www.adriangb.com/scikeras/refs/heads/master/index.html) (recommended) and using [keras.wrappers.scikit_learn](https://faroit.com/keras-docs/1.0.6/scikit-learn-api/) (old way, will be deprecated in a future release).\n",
    "\n",
    "Import the MNIST dataset from [keras.datasets](https://keras.io/api/datasets/mnist/). This is a well known image dataset whose goal is to classify handwritten digits."
   ]
  },
  {
   "cell_type": "markdown",
   "source": [
    "## Using scikeras"
   ],
   "metadata": {
    "collapsed": false,
    "pycharm": {
     "name": "#%% md\n"
    }
   }
  },
  {
   "cell_type": "code",
   "execution_count": 1,
   "outputs": [],
   "source": [
    "# Disable annoying tf warnings\n",
    "import logging\n",
    "import tensorflow as tf\n",
    "tf.get_logger().setLevel(logging.ERROR)\n",
    "\n",
    "from atom import ATOMClassifier, ATOMModel\n",
    "from sklearn.preprocessing import FunctionTransformer\n",
    "from skopt.space.space import Categorical\n",
    "\n",
    "from scikeras.wrappers import KerasClassifier\n",
    "from keras.datasets import mnist\n",
    "from keras.models import Sequential\n",
    "from keras.layers import Dense, Flatten, Conv2D, Dropout"
   ],
   "metadata": {
    "collapsed": false,
    "pycharm": {
     "name": "#%%\n"
    }
   }
  },
  {
   "cell_type": "code",
   "execution_count": 2,
   "outputs": [],
   "source": [
    "# Create the convolutional neural network\n",
    "class ConvNN(KerasClassifier):\n",
    "    \"\"\"Convolutional neural network model.\"\"\"\n",
    "\n",
    "    @property\n",
    "    def feature_encoder(self):\n",
    "        \"\"\"Convert the 2d input to the image's format (len(X), 28, 28, 1).\"\"\"\n",
    "        return FunctionTransformer(\n",
    "            func=lambda X: X.reshape(X.shape[0], 28, 28, 1),\n",
    "        )\n",
    "\n",
    "    @staticmethod\n",
    "    def _keras_build_fn():\n",
    "        \"\"\"Create the model's architecture.\"\"\"\n",
    "        model = Sequential()\n",
    "        model.add(\n",
    "            Conv2D(\n",
    "                filters=64,\n",
    "                kernel_size=3,\n",
    "                activation=\"relu\",\n",
    "                input_shape=(28, 28, 1),\n",
    "            )\n",
    "        )\n",
    "        model.add(Conv2D(filters=64, kernel_size=3, activation=\"relu\"))\n",
    "        model.add(Flatten())\n",
    "        model.add(Dense(units=10, activation=\"softmax\"))\n",
    "        model.compile(\n",
    "            optimizer=\"adam\",\n",
    "            loss=\"sparse_categorical_crossentropy\",\n",
    "            metrics=[\"accuracy\"],\n",
    "        )\n",
    "\n",
    "        return model"
   ],
   "metadata": {
    "collapsed": false,
    "pycharm": {
     "name": "#%%\n"
    }
   }
  },
  {
   "cell_type": "code",
   "execution_count": 3,
   "outputs": [],
   "source": [
    "# Convert the model to an ATOM model\n",
    "model = ATOMModel(\n",
    "    estimator=ConvNN(epochs=5, verbose=0),\n",
    "    acronym=\"NN\",\n",
    "    fullname=\"Neural network\",\n",
    ")"
   ],
   "metadata": {
    "collapsed": false,
    "pycharm": {
     "name": "#%%\n"
    }
   }
  },
  {
   "cell_type": "code",
   "execution_count": 4,
   "outputs": [],
   "source": [
    "# Download the MNIST dataset\n",
    "(X_train, y_train), (X_test, y_test) = mnist.load_data()\n",
    "\n",
    "# Flatten data to follow sklearn's API (2d input)\n",
    "X_train = X_train.reshape(len(X_train), -1)\n",
    "X_test = X_test.reshape(len(X_test), -1)\n",
    "\n",
    "data = (X_train, y_train), (X_test, y_test)"
   ],
   "metadata": {
    "collapsed": false,
    "pycharm": {
     "name": "#%%\n"
    }
   }
  },
  {
   "cell_type": "code",
   "execution_count": 5,
   "outputs": [
    {
     "name": "stdout",
     "output_type": "stream",
     "text": [
      "<< ================== ATOM ================== >>\n",
      "Algorithm task: multiclass classification.\n",
      "Parallel processing with 6 cores.\n",
      "\n",
      "Dataset stats ==================== >>\n",
      "Shape: (7000, 785)\n",
      "Memory: 5.50 MB\n",
      "Scaled: False\n",
      "Outlier values: 41387 (0.9%)\n",
      "-------------------------------------\n",
      "Train set size: 6000\n",
      "Test set size: 1000\n",
      "-------------------------------------\n",
      "|   |     dataset |       train |        test |\n",
      "| - | ----------- | ----------- | ----------- |\n",
      "| 0 |   721 (1.1) |   614 (1.1) |   107 (1.2) |\n",
      "| 1 |   756 (1.2) |   637 (1.2) |   119 (1.4) |\n",
      "| 2 |   705 (1.1) |   603 (1.1) |   102 (1.2) |\n",
      "| 3 |   748 (1.1) |   650 (1.2) |    98 (1.1) |\n",
      "| 4 |   667 (1.0) |   575 (1.1) |    92 (1.1) |\n",
      "| 5 |   653 (1.0) |   558 (1.0) |    95 (1.1) |\n",
      "| 6 |   661 (1.0) |   574 (1.0) |    87 (1.0) |\n",
      "| 7 |   733 (1.1) |   635 (1.2) |    98 (1.1) |\n",
      "| 8 |   653 (1.0) |   547 (1.0) |   106 (1.2) |\n",
      "| 9 |   703 (1.1) |   607 (1.1) |    96 (1.1) |\n",
      "\n"
     ]
    }
   ],
   "source": [
    "atom = ATOMClassifier(*data, n_rows=0.1, n_jobs=6, verbose=2)"
   ],
   "metadata": {
    "collapsed": false,
    "pycharm": {
     "name": "#%%\n"
    }
   }
  },
  {
   "cell_type": "code",
   "execution_count": 6,
   "outputs": [
    {
     "name": "stdout",
     "output_type": "stream",
     "text": [
      "\n",
      "Training ========================= >>\n",
      "Models: NN\n",
      "Metric: f1_weighted\n",
      "\n",
      "\n",
      "Running BO for Neural network...\n",
      "| call             | batch_size | f1_weighted | best_f1_weighted |    time | total_time |\n",
      "| ---------------- | ---------- | ----------- | ---------------- | ------- | ---------- |\n",
      "| Initial point 1  |         32 |      0.9311 |           0.9311 | 28.916s |    28.916s |\n",
      "| Initial point 2  |         64 |       0.958 |            0.958 | 25.337s |    54.253s |\n",
      "| Initial point 3  |        128 |      0.9685 |           0.9685 | 22.706s |     1m:17s |\n",
      "| Initial point 4  |         32 |      0.9311 |           0.9685 |  0.000s |     1m:17s |\n",
      "| Initial point 5  |        256 |      0.9651 |           0.9685 | 21.374s |     1m:38s |\n",
      "Bayesian Optimization ---------------------------\n",
      "Best call --> Initial point 3\n",
      "Best parameters --> {'batch_size': 128}\n",
      "Best evaluation --> f1_weighted: 0.9685\n",
      "Time elapsed: 1m:38s\n",
      "Fit ---------------------------------------------\n",
      "Train evaluation --> f1_weighted: 0.9995\n",
      "Test evaluation --> f1_weighted: 0.967\n",
      "Time elapsed: 27.298s\n",
      "-------------------------------------------------\n",
      "Total time: 2m:06s\n",
      "\n",
      "\n",
      "Final results ==================== >>\n",
      "Duration: 2m:06s\n",
      "-------------------------------------\n",
      "Neural network --> f1_weighted: 0.967\n"
     ]
    }
   ],
   "source": [
    "# Like any other model, we can define custom dimensions for the bayesian optimization\n",
    "atom.run(\n",
    "    models=model,\n",
    "    metric=\"f1_weighted\",\n",
    "    n_calls=5,\n",
    "    bo_params={\n",
    "        \"dimensions\": [Categorical([32, 64, 128, 256], name=\"batch_size\")],\n",
    "        \"max_time\": 120,\n",
    "    }\n",
    ")"
   ],
   "metadata": {
    "collapsed": false,
    "pycharm": {
     "name": "#%%\n"
    }
   }
  },
  {
   "cell_type": "markdown",
   "metadata": {
    "pycharm": {
     "name": "#%% md\n"
    }
   },
   "source": [
    "## Using keras.wrappers.scikit_learn"
   ]
  },
  {
   "cell_type": "code",
   "execution_count": 7,
   "metadata": {
    "pycharm": {
     "name": "#%%\n"
    }
   },
   "outputs": [],
   "source": [
    "# Disable annoying tf warnings\n",
    "import logging\n",
    "import tensorflow as tf\n",
    "tf.get_logger().setLevel(logging.ERROR)\n",
    "\n",
    "# Import standard packages\n",
    "from atom import ATOMClassifier, ATOMModel\n",
    "from skopt.space.space import Categorical\n",
    "\n",
    "# Keras\n",
    "from keras.datasets import mnist\n",
    "from keras.models import Sequential\n",
    "from keras.layers import Dense, Flatten, Conv2D\n",
    "from keras.wrappers.scikit_learn import KerasClassifier"
   ]
  },
  {
   "cell_type": "code",
   "execution_count": 8,
   "outputs": [],
   "source": [
    "# Create the convolutional neural network\n",
    "def neural_network():\n",
    "    \"\"\"Create the model's architecture.\"\"\"\n",
    "    model = Sequential()\n",
    "    model.add(\n",
    "        Conv2D(\n",
    "            filters=64,\n",
    "            kernel_size=3,\n",
    "            activation=\"relu\",\n",
    "            input_shape=(28, 28, 1),\n",
    "        )\n",
    "    )\n",
    "    model.add(Conv2D(filters=64, kernel_size=3, activation=\"relu\"))\n",
    "    model.add(Flatten())\n",
    "    model.add(Dense(units=10, activation=\"softmax\"))\n",
    "    model.compile(\n",
    "        optimizer=\"adam\",\n",
    "        loss=\"sparse_categorical_crossentropy\",\n",
    "        metrics=[\"accuracy\"],\n",
    "    )\n",
    "\n",
    "    return model"
   ],
   "metadata": {
    "collapsed": false,
    "pycharm": {
     "name": "#%%\n"
    }
   }
  },
  {
   "cell_type": "code",
   "execution_count": 9,
   "outputs": [],
   "source": [
    "# Since ATOM uses sklearn's API, use Keras' wrapper\n",
    "model = KerasClassifier(neural_network, epochs=5, verbose=0)\n",
    "\n",
    "# Convert the model to an ATOM model\n",
    "model = ATOMModel(model, acronym=\"NN\", fullname=\"Neural network\")"
   ],
   "metadata": {
    "collapsed": false,
    "pycharm": {
     "name": "#%%\n"
    }
   }
  },
  {
   "cell_type": "code",
   "execution_count": 10,
   "metadata": {
    "pycharm": {
     "name": "#%%\n"
    }
   },
   "outputs": [],
   "source": [
    "# Download the MNIST dataset\n",
    "(X_train, y_train), (X_test, y_test) = mnist.load_data()\n",
    "\n",
    "# Reshape data to fit model\n",
    "X_train = X_train.reshape(len(X_train), 28, 28, 1)\n",
    "X_test = X_test.reshape(len(X_test), 28, 28, 1)\n",
    "\n",
    "data = (X_train, y_train), (X_test, y_test)"
   ]
  },
  {
   "cell_type": "code",
   "execution_count": 11,
   "metadata": {
    "run_control": {
     "marked": false
    },
    "pycharm": {
     "name": "#%%\n"
    }
   },
   "outputs": [
    {
     "name": "stdout",
     "output_type": "stream",
     "text": [
      "<< ================== ATOM ================== >>\n",
      "Algorithm task: multiclass classification.\n",
      "Parallel processing with 6 cores.\n",
      "\n",
      "Dataset stats ==================== >>\n",
      "Shape: (7000, (28, 28, 1), 2)\n",
      "Memory: 1.07 MB\n",
      "-------------------------------------\n",
      "Train set size: 6000\n",
      "Test set size: 1000\n",
      "-------------------------------------\n",
      "|   |     dataset |       train |        test |\n",
      "| - | ----------- | ----------- | ----------- |\n",
      "| 0 |   716 (1.1) |   610 (1.1) |   106 (1.5) |\n",
      "| 1 |   780 (1.2) |   648 (1.2) |   132 (1.9) |\n",
      "| 2 |   667 (1.1) |   564 (1.0) |   103 (1.5) |\n",
      "| 3 |   716 (1.1) |   616 (1.1) |   100 (1.4) |\n",
      "| 4 |   655 (1.0) |   575 (1.0) |    80 (1.1) |\n",
      "| 5 |   634 (1.0) |   549 (1.0) |    85 (1.2) |\n",
      "| 6 |   723 (1.1) |   616 (1.1) |   107 (1.5) |\n",
      "| 7 |   736 (1.2) |   638 (1.2) |    98 (1.4) |\n",
      "| 8 |   646 (1.0) |   575 (1.0) |    71 (1.0) |\n",
      "| 9 |   727 (1.1) |   609 (1.1) |   118 (1.7) |\n",
      "\n"
     ]
    }
   ],
   "source": [
    "atom = ATOMClassifier(*data, n_rows=0.1, n_jobs=6, verbose=2)"
   ]
  },
  {
   "cell_type": "code",
   "execution_count": 12,
   "metadata": {
    "pycharm": {
     "name": "#%%\n"
    }
   },
   "outputs": [
    {
     "data": {
      "text/plain": "                                    multidim feature  target\n0  [[[0], [0], [0], [0], [0], [0], [0], [0], [0],...       3\n1  [[[0], [0], [0], [0], [0], [0], [0], [0], [0],...       6\n2  [[[0], [0], [0], [0], [0], [0], [0], [0], [0],...       2\n3  [[[0], [0], [0], [0], [0], [0], [0], [0], [0],...       0\n4  [[[0], [0], [0], [0], [0], [0], [0], [0], [0],...       9",
      "text/html": "<div>\n<style scoped>\n    .dataframe tbody tr th:only-of-type {\n        vertical-align: middle;\n    }\n\n    .dataframe tbody tr th {\n        vertical-align: top;\n    }\n\n    .dataframe thead th {\n        text-align: right;\n    }\n</style>\n<table border=\"1\" class=\"dataframe\">\n  <thead>\n    <tr style=\"text-align: right;\">\n      <th></th>\n      <th>multidim feature</th>\n      <th>target</th>\n    </tr>\n  </thead>\n  <tbody>\n    <tr>\n      <th>0</th>\n      <td>[[[0], [0], [0], [0], [0], [0], [0], [0], [0],...</td>\n      <td>3</td>\n    </tr>\n    <tr>\n      <th>1</th>\n      <td>[[[0], [0], [0], [0], [0], [0], [0], [0], [0],...</td>\n      <td>6</td>\n    </tr>\n    <tr>\n      <th>2</th>\n      <td>[[[0], [0], [0], [0], [0], [0], [0], [0], [0],...</td>\n      <td>2</td>\n    </tr>\n    <tr>\n      <th>3</th>\n      <td>[[[0], [0], [0], [0], [0], [0], [0], [0], [0],...</td>\n      <td>0</td>\n    </tr>\n    <tr>\n      <th>4</th>\n      <td>[[[0], [0], [0], [0], [0], [0], [0], [0], [0],...</td>\n      <td>9</td>\n    </tr>\n  </tbody>\n</table>\n</div>"
     },
     "execution_count": 12,
     "metadata": {},
     "output_type": "execute_result"
    }
   ],
   "source": [
    "# When the input data has more than 2 dimensions, ATOM creates a \n",
    "# dataset with just one column of shape (n_samples, shape_sample)\n",
    "atom.head()"
   ]
  },
  {
   "cell_type": "code",
   "execution_count": 13,
   "metadata": {
    "pycharm": {
     "name": "#%%\n"
    }
   },
   "outputs": [
    {
     "name": "stdout",
     "output_type": "stream",
     "text": [
      "Shape of one image: (28, 28, 1)\n",
      "atom's shape (n_rows, (shape_image), n_cols): (7000, (28, 28, 1), 2)\n"
     ]
    }
   ],
   "source": [
    "# Every row in the column contains the data of one image\n",
    "print(f\"Shape of one image: {atom.iloc[0, 0].shape}\")\n",
    "print(f\"atom's shape (n_rows, (shape_image), n_cols): {atom.shape}\")"
   ]
  },
  {
   "cell_type": "code",
   "execution_count": 14,
   "metadata": {
    "pycharm": {
     "name": "#%%\n"
    }
   },
   "outputs": [
    {
     "name": "stdout",
     "output_type": "stream",
     "text": [
      "\n",
      "Training ========================= >>\n",
      "Models: NN\n",
      "Metric: f1_weighted\n",
      "\n",
      "\n",
      "Running BO for Neural network...\n",
      "| call             | batch_size | f1_weighted | best_f1_weighted |    time | total_time |\n",
      "| ---------------- | ---------- | ----------- | ---------------- | ------- | ---------- |\n",
      "27/27 [==============================] - 0s 8ms/step\n",
      "| Initial point 1  |        128 |      0.9686 |           0.9686 | 25.543s |    25.543s |\n",
      "27/27 [==============================] - 0s 7ms/step\n",
      "| Initial point 2  |         64 |      0.9592 |           0.9686 | 25.226s |    50.769s |\n",
      "27/27 [==============================] - 0s 7ms/step\n",
      "| Initial point 3  |         32 |      0.9486 |           0.9686 | 28.972s |     1m:20s |\n",
      "27/27 [==============================] - 0s 7ms/step\n",
      "| Initial point 4  |        256 |      0.9578 |           0.9686 | 22.066s |     1m:42s |\n",
      "Bayesian Optimization ---------------------------\n",
      "Best call --> Initial point 1\n",
      "Best parameters --> {'batch_size': 128}\n",
      "Best evaluation --> f1_weighted: 0.9686\n",
      "Time elapsed: 1m:42s\n",
      "Fit ---------------------------------------------\n",
      "188/188 [==============================] - 1s 7ms/step\n",
      "32/32 [==============================] - 0s 7ms/step\n",
      "Train evaluation --> f1_weighted: 0.9997\n",
      "Test evaluation --> f1_weighted: 0.965\n",
      "Time elapsed: 28.000s\n",
      "-------------------------------------------------\n",
      "Total time: 2m:10s\n",
      "\n",
      "\n",
      "Final results ==================== >>\n",
      "Duration: 2m:10s\n",
      "-------------------------------------\n",
      "Neural network --> f1_weighted: 0.965\n"
     ]
    }
   ],
   "source": [
    "# Like any other model, we can define custom dimensions for the bayesian optimization\n",
    "atom.run(\n",
    "    models=model,\n",
    "    metric=\"f1_weighted\",\n",
    "    n_calls=5,\n",
    "    bo_params={\n",
    "        \"dimensions\": [Categorical([32, 64, 128, 256], name=\"batch_size\")],\n",
    "        \"max_time\": 120,\n",
    "    }\n",
    ")"
   ]
  },
  {
   "cell_type": "markdown",
   "metadata": {
    "pycharm": {
     "name": "#%% md\n"
    }
   },
   "source": [
    "## Analyze the results"
   ]
  },
  {
   "cell_type": "code",
   "execution_count": 15,
   "metadata": {
    "pycharm": {
     "name": "#%%\n"
    }
   },
   "outputs": [
    {
     "name": "stdout",
     "output_type": "stream",
     "text": [
      "1875/1875 [==============================] - 11s 6ms/step\n"
     ]
    },
    {
     "data": {
      "text/plain": "array([[5.4039018e-09, 1.6364370e-14, 1.3189693e-09, ..., 1.3525283e-06,\n        1.1704481e-07, 5.0089360e-10],\n       [9.9999988e-01, 7.7574962e-16, 2.4149596e-09, ..., 9.6689301e-10,\n        7.5766078e-09, 1.7431129e-13],\n       [2.2981137e-15, 1.5083846e-12, 7.1241735e-11, ..., 2.3667360e-05,\n        1.2634129e-07, 1.3805793e-04],\n       ...,\n       [3.6765248e-14, 5.7221899e-20, 9.5585592e-18, ..., 3.6969964e-17,\n        2.0815643e-08, 7.3205825e-08],\n       [2.2618442e-08, 1.0618017e-14, 6.3257083e-10, ..., 2.8880539e-11,\n        1.0065155e-11, 3.1087099e-16],\n       [5.3646733e-07, 1.3232229e-11, 8.2509573e-08, ..., 1.0255779e-07,\n        9.9999702e-01, 5.6972289e-07]], dtype=float32)"
     },
     "execution_count": 15,
     "metadata": {},
     "output_type": "execute_result"
    }
   ],
   "source": [
    "# Use the prediction methods like any other model\n",
    "atom.nn.predict_proba(X_train)"
   ]
  },
  {
   "cell_type": "code",
   "execution_count": 16,
   "metadata": {
    "pycharm": {
     "name": "#%%\n"
    }
   },
   "outputs": [
    {
     "data": {
      "text/plain": "<Figure size 576x432 with 2 Axes>",
      "image/png": "[encoded data removed]"
     },
     "metadata": {
      "needs_background": "light"
     },
     "output_type": "display_data"
    }
   ],
   "source": [
    "# Or make plots...\n",
    "atom.nn.plot_confusion_matrix()"
   ]
  }
 ],
 "metadata": {
  "kernelspec": {
   "display_name": "Python 3 (ipykernel)",
   "language": "python",
   "name": "python3"
  },
  "language_info": {
   "codemirror_mode": {
    "name": "ipython",
    "version": 3
   },
   "file_extension": ".py",
   "mimetype": "text/x-python",
   "name": "python",
   "nbconvert_exporter": "python",
   "pygments_lexer": "ipython3",
   "version": "3.8.3"
  },
  "toc": {
   "base_numbering": 1,
   "nav_menu": {},
   "number_sections": true,
   "sideBar": true,
   "skip_h1_title": false,
   "title_cell": "Table of Contents",
   "title_sidebar": "Contents",
   "toc_cell": false,
   "toc_position": {},
   "toc_section_display": true,
   "toc_window_display": false
  }
 },
 "nbformat": 4,
 "nbformat_minor": 4
}
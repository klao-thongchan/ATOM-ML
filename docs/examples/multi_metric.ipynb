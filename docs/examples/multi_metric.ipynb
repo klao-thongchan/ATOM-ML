{
 "cells": [
  {
   "cell_type": "markdown",
   "metadata": {},
   "source": [
    "# Example: Multi-metric runs\n",
    "----------------------------\n",
    "\n",
    "This example shows how to evaluate an atom's pipeline on multiple metrics.\n",
    "\n",
    "Import the breast cancer dataset from [sklearn.datasets](https://scikit-learn.org/stable/datasets/index.html#wine-dataset). This is a small and easy to train dataset whose goal is to predict whether a patient has breast cancer or not."
   ]
  },
  {
   "cell_type": "markdown",
   "metadata": {},
   "source": [
    "## Load the data"
   ]
  },
  {
   "cell_type": "code",
   "execution_count": 1,
   "metadata": {},
   "outputs": [],
   "source": [
    "# Import packages\n",
    "import pandas as pd\n",
    "from atom import ATOMRegressor"
   ]
  },
  {
   "cell_type": "code",
   "execution_count": 2,
   "metadata": {},
   "outputs": [
    {
     "data": {
      "text/html": [
       "<div>\n",
       "<style scoped>\n",
       "    .dataframe tbody tr th:only-of-type {\n",
       "        vertical-align: middle;\n",
       "    }\n",
       "\n",
       "    .dataframe tbody tr th {\n",
       "        vertical-align: top;\n",
       "    }\n",
       "\n",
       "    .dataframe thead th {\n",
       "        text-align: right;\n",
       "    }\n",
       "</style>\n",
       "<table border=\"1\" class=\"dataframe\">\n",
       "  <thead>\n",
       "    <tr style=\"text-align: right;\">\n",
       "      <th></th>\n",
       "      <th>Sex</th>\n",
       "      <th>Length</th>\n",
       "      <th>Diameter</th>\n",
       "      <th>Height</th>\n",
       "      <th>Whole weight</th>\n",
       "      <th>Shucked weight</th>\n",
       "      <th>Viscera weight</th>\n",
       "      <th>Shell weight</th>\n",
       "      <th>Rings</th>\n",
       "    </tr>\n",
       "  </thead>\n",
       "  <tbody>\n",
       "    <tr>\n",
       "      <th>0</th>\n",
       "      <td>M</td>\n",
       "      <td>0.455</td>\n",
       "      <td>0.365</td>\n",
       "      <td>0.095</td>\n",
       "      <td>0.5140</td>\n",
       "      <td>0.2245</td>\n",
       "      <td>0.1010</td>\n",
       "      <td>0.150</td>\n",
       "      <td>15</td>\n",
       "    </tr>\n",
       "    <tr>\n",
       "      <th>1</th>\n",
       "      <td>M</td>\n",
       "      <td>0.350</td>\n",
       "      <td>0.265</td>\n",
       "      <td>0.090</td>\n",
       "      <td>0.2255</td>\n",
       "      <td>0.0995</td>\n",
       "      <td>0.0485</td>\n",
       "      <td>0.070</td>\n",
       "      <td>7</td>\n",
       "    </tr>\n",
       "    <tr>\n",
       "      <th>2</th>\n",
       "      <td>F</td>\n",
       "      <td>0.530</td>\n",
       "      <td>0.420</td>\n",
       "      <td>0.135</td>\n",
       "      <td>0.6770</td>\n",
       "      <td>0.2565</td>\n",
       "      <td>0.1415</td>\n",
       "      <td>0.210</td>\n",
       "      <td>9</td>\n",
       "    </tr>\n",
       "    <tr>\n",
       "      <th>3</th>\n",
       "      <td>M</td>\n",
       "      <td>0.440</td>\n",
       "      <td>0.365</td>\n",
       "      <td>0.125</td>\n",
       "      <td>0.5160</td>\n",
       "      <td>0.2155</td>\n",
       "      <td>0.1140</td>\n",
       "      <td>0.155</td>\n",
       "      <td>10</td>\n",
       "    </tr>\n",
       "    <tr>\n",
       "      <th>4</th>\n",
       "      <td>I</td>\n",
       "      <td>0.330</td>\n",
       "      <td>0.255</td>\n",
       "      <td>0.080</td>\n",
       "      <td>0.2050</td>\n",
       "      <td>0.0895</td>\n",
       "      <td>0.0395</td>\n",
       "      <td>0.055</td>\n",
       "      <td>7</td>\n",
       "    </tr>\n",
       "  </tbody>\n",
       "</table>\n",
       "</div>"
      ],
      "text/plain": [
       "  Sex  Length  Diameter  Height  Whole weight  Shucked weight  Viscera weight  \\\n",
       "0   M   0.455     0.365   0.095        0.5140          0.2245          0.1010   \n",
       "1   M   0.350     0.265   0.090        0.2255          0.0995          0.0485   \n",
       "2   F   0.530     0.420   0.135        0.6770          0.2565          0.1415   \n",
       "3   M   0.440     0.365   0.125        0.5160          0.2155          0.1140   \n",
       "4   I   0.330     0.255   0.080        0.2050          0.0895          0.0395   \n",
       "\n",
       "   Shell weight  Rings  \n",
       "0         0.150     15  \n",
       "1         0.070      7  \n",
       "2         0.210      9  \n",
       "3         0.155     10  \n",
       "4         0.055      7  "
      ]
     },
     "execution_count": 2,
     "metadata": {},
     "output_type": "execute_result"
    }
   ],
   "source": [
    "# Load data\n",
    "X = pd.read_csv(\"./datasets/abalone.csv\")\n",
    "\n",
    "# Let's have a look\n",
    "X.head()"
   ]
  },
  {
   "cell_type": "markdown",
   "metadata": {},
   "source": [
    "## Run the pipeline"
   ]
  },
  {
   "cell_type": "code",
   "execution_count": 3,
   "metadata": {},
   "outputs": [
    {
     "name": "stdout",
     "output_type": "stream",
     "text": [
      "<< ================== ATOM ================== >>\n",
      "Algorithm task: regression.\n",
      "\n",
      "Dataset stats ==================== >>\n",
      "Shape: (4177, 9)\n",
      "Memory: 509.72 kB\n",
      "Scaled: False\n",
      "Categorical features: 1 (12.5%)\n",
      "Outlier values: 187 (0.6%)\n",
      "-------------------------------------\n",
      "Train set size: 3342\n",
      "Test set size: 835\n",
      "\n"
     ]
    }
   ],
   "source": [
    "atom = ATOMRegressor(X, n_jobs=1, verbose=2, random_state=1)"
   ]
  },
  {
   "cell_type": "code",
   "execution_count": 4,
   "metadata": {},
   "outputs": [
    {
     "name": "stdout",
     "output_type": "stream",
     "text": [
      "Fitting Encoder...\n",
      "Encoding categorical columns...\n",
      " --> OneHot-encoding feature Sex. Contains 3 classes.\n"
     ]
    }
   ],
   "source": [
    "atom.encode()"
   ]
  },
  {
   "cell_type": "code",
   "execution_count": 5,
   "metadata": {},
   "outputs": [
    {
     "name": "stdout",
     "output_type": "stream",
     "text": [
      "\n",
      "Training ========================= >>\n",
      "Models: lSVM, hGBM\n",
      "Metric: r2, neg_root_mean_squared_error\n",
      "\n",
      "\n",
      "Running hyperparameter tuning for LinearSVM...\n",
      "| trial |                    loss |       C |    dual |      r2 | best_r2 | neg_root_mean_squared_error | best_neg_root_mean_squared_error | time_trial | time_ht |    state |\n",
      "| ----- | ----------------------- | ------- | ------- | ------- | ------- | --------------------------- | -------------------------------- | ---------- | ------- | -------- |\n",
      "| 0     | squared_epsilon_insen.. |   0.001 |    True |  0.2009 |  0.2009 |                      -2.971 |                           -2.971 |     0.034s |  0.034s | COMPLETE |\n",
      "| 1     | squared_epsilon_insen.. |  0.0534 |   False |  0.5072 |  0.5072 |                     -2.4603 |                          -2.4603 |     0.031s |  0.065s | COMPLETE |\n",
      "| 2     | squared_epsilon_insen.. |  0.0105 |    True |  0.3288 |  0.5072 |                     -2.5318 |                          -2.4603 |     0.034s |  0.099s | COMPLETE |\n",
      "| 3     |     epsilon_insensitive |  0.6215 |    True |  0.4194 |  0.5072 |                     -2.6932 |                          -2.4603 |     0.038s |  0.137s | COMPLETE |\n",
      "| 4     | squared_epsilon_insen.. |  0.0369 |   False |  0.5469 |  0.5469 |                     -2.2654 |                          -2.2654 |     0.040s |  0.178s | COMPLETE |\n",
      "| 5     |     epsilon_insensitive |  0.0016 |    True | -2.9555 |  0.5469 |                     -6.1975 |                          -2.2654 |     0.053s |  0.230s | COMPLETE |\n",
      "| 6     | squared_epsilon_insen.. | 61.5811 |   False |  0.3212 |  0.5469 |                     -2.6977 |                          -2.2654 |     0.052s |  0.282s | COMPLETE |\n",
      "| 7     | squared_epsilon_insen.. |  14.898 |   False |  0.3471 |  0.5469 |                     -2.7171 |                          -2.2654 |     0.048s |  0.330s | COMPLETE |\n",
      "| 8     |     epsilon_insensitive |  0.0252 |    True |   0.383 |  0.5469 |                     -2.4392 |                          -2.2654 |     0.037s |  0.367s | COMPLETE |\n",
      "| 9     | squared_epsilon_insen.. |  0.0294 |    True |  0.4632 |  0.5469 |                     -2.3766 |                          -2.2654 |     0.037s |  0.404s | COMPLETE |\n",
      "Hyperparameter tuning ---------------------------\n",
      "Best trial --> 4\n",
      "Best parameters:\n",
      " --> loss: squared_epsilon_insensitive\n",
      " --> C: 0.0369\n",
      " --> dual: False\n",
      "Best evaluation --> r2: 0.5469   neg_root_mean_squared_error: -2.2654\n",
      "Time elapsed: 0.404s\n",
      "Fit ---------------------------------------------\n",
      "Train evaluation --> r2: 0.4648   neg_root_mean_squared_error: -2.3752\n",
      "Test evaluation --> r2: 0.4328   neg_root_mean_squared_error: -2.3574\n",
      "Time elapsed: 0.019s\n",
      "Bootstrap ---------------------------------------\n",
      "Evaluation --> r2: 0.4318 ± 0.0051   neg_root_mean_squared_error: -2.3595 ± 0.0105\n",
      "Time elapsed: 0.080s\n",
      "-------------------------------------------------\n",
      "Total time: 0.503s\n",
      "\n",
      "\n",
      "Running hyperparameter tuning for HistGradientBoosting...\n",
      "| trial |        loss | learning_rate | max_iter | max_leaf_nodes | max_depth | min_samples_leaf | l2_regularization |      r2 | best_r2 | neg_root_mean_squared_error | best_neg_root_mean_squared_error | time_trial | time_ht |    state |\n",
      "| ----- | ----------- | ------------- | -------- | -------------- | --------- | ---------------- | ----------------- | ------- | ------- | --------------------------- | -------------------------------- | ---------- | ------- | -------- |\n",
      "| 0     | absolute_.. |        0.0402 |       80 |             13 |        15 |               24 |               0.9 |  0.5175 |  0.5175 |                     -2.3087 |                          -2.3087 |     0.256s |  0.256s | COMPLETE |\n",
      "| 1     | squared_e.. |        0.0219 |      440 |             14 |         9 |               16 |               0.1 |  0.6014 |  0.6014 |                     -2.2127 |                          -2.2127 |     0.990s |  1.246s | COMPLETE |\n",
      "| 2     | absolute_.. |         0.034 |      250 |             12 |        12 |               26 |               0.4 |  0.5509 |  0.6014 |                     -2.0709 |                          -2.0709 |     0.627s |  1.873s | COMPLETE |\n",
      "| 3     | absolute_.. |        0.3174 |      370 |             46 |         6 |               10 |               0.6 |  0.5302 |  0.6014 |                     -2.4226 |                          -2.0709 |     1.184s |  3.057s | COMPLETE |\n",
      "| 4     |     poisson |        0.0518 |      460 |             35 |         3 |               15 |               0.9 |  0.5836 |  0.6014 |                     -2.1716 |                          -2.0709 |     0.463s |  3.520s | COMPLETE |\n",
      "| 5     |     poisson |        0.0177 |      140 |             34 |      None |               21 |               0.0 |  0.5268 |  0.6014 |                     -2.1436 |                          -2.0709 |     0.693s |  4.213s | COMPLETE |\n",
      "| 6     | absolute_.. |        0.0255 |      130 |             40 |        15 |               17 |               0.6 |  0.5071 |  0.6014 |                     -2.2987 |                          -2.0709 |     1.007s |  5.220s | COMPLETE |\n",
      "| 7     | squared_e.. |        0.0136 |      190 |             35 |        14 |               22 |               1.0 |  0.5525 |  0.6014 |                     -2.2494 |                          -2.0709 |     0.943s |  6.163s | COMPLETE |\n",
      "| 8     | squared_e.. |        0.1919 |      200 |             29 |         5 |               26 |               0.3 |  0.5294 |  0.6014 |                     -2.1302 |                          -2.0709 |     0.356s |  6.519s | COMPLETE |\n",
      "| 9     | squared_e.. |        0.4892 |      460 |             28 |        10 |               24 |               1.0 |  0.4242 |  0.6014 |                     -2.4614 |                          -2.0709 |     1.319s |  7.839s | COMPLETE |\n",
      "Hyperparameter tuning ---------------------------\n",
      "Best trial --> 2\n",
      "Best parameters:\n",
      " --> loss: absolute_error\n",
      " --> learning_rate: 0.034\n",
      " --> max_iter: 250\n",
      " --> max_leaf_nodes: 12\n",
      " --> max_depth: 12\n",
      " --> min_samples_leaf: 26\n",
      " --> l2_regularization: 0.4\n",
      "Best evaluation --> r2: 0.5509   neg_root_mean_squared_error: -2.0709\n",
      "Time elapsed: 7.839s\n",
      "Fit ---------------------------------------------\n",
      "Train evaluation --> r2: 0.5877   neg_root_mean_squared_error: -2.0847\n",
      "Test evaluation --> r2: 0.4925   neg_root_mean_squared_error: -2.2299\n",
      "Time elapsed: 0.637s\n",
      "Bootstrap ---------------------------------------\n",
      "Evaluation --> r2: 0.49 ± 0.0051   neg_root_mean_squared_error: -2.2354 ± 0.0112\n",
      "Time elapsed: 3.753s\n",
      "-------------------------------------------------\n",
      "Total time: 12.229s\n",
      "\n",
      "\n",
      "Final results ==================== >>\n",
      "Total time: 12.885s\n",
      "-------------------------------------\n",
      "LinearSVM            --> r2: 0.4318 ± 0.0051   neg_root_mean_squared_error: -2.3595 ± 0.0105\n",
      "HistGradientBoosting --> r2: 0.49 ± 0.0051   neg_root_mean_squared_error: -2.2354 ± 0.0112 !\n"
     ]
    }
   ],
   "source": [
    "# For every step of the BO, both metrics are calculated,\n",
    "# but only the first is used for optimization!\n",
    "atom.run(\n",
    "    models=[\"lsvm\", \"hGBM\"],\n",
    "    metric=(\"r2\", \"rmse\"),\n",
    "    n_trials=10,\n",
    "    n_bootstrap=6,\n",
    ")"
   ]
  },
  {
   "cell_type": "code",
   "execution_count": 6,
   "metadata": {},
   "outputs": [
    {
     "name": "stdout",
     "output_type": "stream",
     "text": [
      "Applying cross-validation...\n"
     ]
    },
    {
     "data": {
      "text/html": [
       "<div>\n",
       "<style scoped>\n",
       "    .dataframe tbody tr th:only-of-type {\n",
       "        vertical-align: middle;\n",
       "    }\n",
       "\n",
       "    .dataframe tbody tr th {\n",
       "        vertical-align: top;\n",
       "    }\n",
       "\n",
       "    .dataframe thead th {\n",
       "        text-align: right;\n",
       "    }\n",
       "</style>\n",
       "<table border=\"1\" class=\"dataframe\">\n",
       "  <thead>\n",
       "    <tr style=\"text-align: right;\">\n",
       "      <th></th>\n",
       "      <th>train_r2</th>\n",
       "      <th>test_r2</th>\n",
       "      <th>train_neg_root_mean_squared_error</th>\n",
       "      <th>test_neg_root_mean_squared_error</th>\n",
       "      <th>time (s)</th>\n",
       "    </tr>\n",
       "  </thead>\n",
       "  <tbody>\n",
       "    <tr>\n",
       "      <th>0</th>\n",
       "      <td>0.569346</td>\n",
       "      <td>0.529549</td>\n",
       "      <td>-2.105422</td>\n",
       "      <td>-2.252907</td>\n",
       "      <td>0.630262</td>\n",
       "    </tr>\n",
       "    <tr>\n",
       "      <th>1</th>\n",
       "      <td>0.582883</td>\n",
       "      <td>0.539625</td>\n",
       "      <td>-2.067226</td>\n",
       "      <td>-2.247968</td>\n",
       "      <td>0.610330</td>\n",
       "    </tr>\n",
       "    <tr>\n",
       "      <th>2</th>\n",
       "      <td>0.590722</td>\n",
       "      <td>0.521151</td>\n",
       "      <td>-2.056534</td>\n",
       "      <td>-2.255911</td>\n",
       "      <td>0.628156</td>\n",
       "    </tr>\n",
       "    <tr>\n",
       "      <th>3</th>\n",
       "      <td>0.580804</td>\n",
       "      <td>0.562349</td>\n",
       "      <td>-2.102992</td>\n",
       "      <td>-2.067051</td>\n",
       "      <td>0.619890</td>\n",
       "    </tr>\n",
       "    <tr>\n",
       "      <th>4</th>\n",
       "      <td>0.587709</td>\n",
       "      <td>0.492538</td>\n",
       "      <td>-2.084716</td>\n",
       "      <td>-2.229899</td>\n",
       "      <td>0.612518</td>\n",
       "    </tr>\n",
       "    <tr>\n",
       "      <th>mean</th>\n",
       "      <td>0.582293</td>\n",
       "      <td>0.529042</td>\n",
       "      <td>-2.083378</td>\n",
       "      <td>-2.210747</td>\n",
       "      <td>0.620231</td>\n",
       "    </tr>\n",
       "    <tr>\n",
       "      <th>std</th>\n",
       "      <td>0.007356</td>\n",
       "      <td>0.022875</td>\n",
       "      <td>0.019256</td>\n",
       "      <td>0.072413</td>\n",
       "      <td>0.008013</td>\n",
       "    </tr>\n",
       "  </tbody>\n",
       "</table>\n",
       "</div>"
      ],
      "text/plain": [
       "      train_r2   test_r2  train_neg_root_mean_squared_error  \\\n",
       "0     0.569346  0.529549                          -2.105422   \n",
       "1     0.582883  0.539625                          -2.067226   \n",
       "2     0.590722  0.521151                          -2.056534   \n",
       "3     0.580804  0.562349                          -2.102992   \n",
       "4     0.587709  0.492538                          -2.084716   \n",
       "mean  0.582293  0.529042                          -2.083378   \n",
       "std   0.007356  0.022875                           0.019256   \n",
       "\n",
       "      test_neg_root_mean_squared_error  time (s)  \n",
       "0                            -2.252907  0.630262  \n",
       "1                            -2.247968  0.610330  \n",
       "2                            -2.255911  0.628156  \n",
       "3                            -2.067051  0.619890  \n",
       "4                            -2.229899  0.612518  \n",
       "mean                         -2.210747  0.620231  \n",
       "std                           0.072413  0.008013  "
      ]
     },
     "execution_count": 6,
     "metadata": {},
     "output_type": "execute_result"
    }
   ],
   "source": [
    "# Check the robustness of the pipeline using cross-validation\n",
    "atom.winner.cross_validate()"
   ]
  },
  {
   "cell_type": "markdown",
   "metadata": {},
   "source": [
    "## Analyze the results"
   ]
  },
  {
   "cell_type": "code",
   "execution_count": 7,
   "metadata": {},
   "outputs": [
    {
     "data": {
      "text/html": [
       "<div>\n",
       "<style scoped>\n",
       "    .dataframe tbody tr th:only-of-type {\n",
       "        vertical-align: middle;\n",
       "    }\n",
       "\n",
       "    .dataframe tbody tr th {\n",
       "        vertical-align: top;\n",
       "    }\n",
       "\n",
       "    .dataframe thead th {\n",
       "        text-align: right;\n",
       "    }\n",
       "</style>\n",
       "<table border=\"1\" class=\"dataframe\">\n",
       "  <thead>\n",
       "    <tr style=\"text-align: right;\">\n",
       "      <th></th>\n",
       "      <th>score_ht</th>\n",
       "      <th>score_train</th>\n",
       "      <th>score_test</th>\n",
       "    </tr>\n",
       "  </thead>\n",
       "  <tbody>\n",
       "    <tr>\n",
       "      <th>lSVM</th>\n",
       "      <td>[0.5468955047338504, -2.265420247703106]</td>\n",
       "      <td>[0.4648, -2.3752]</td>\n",
       "      <td>[0.4328, -2.3574]</td>\n",
       "    </tr>\n",
       "    <tr>\n",
       "      <th>hGBM</th>\n",
       "      <td>[0.5509021456694858, -2.0709221111339886]</td>\n",
       "      <td>[0.5877, -2.0847]</td>\n",
       "      <td>[0.4925, -2.2299]</td>\n",
       "    </tr>\n",
       "  </tbody>\n",
       "</table>\n",
       "</div>"
      ],
      "text/plain": [
       "                                       score_ht        score_train  \\\n",
       "lSVM   [0.5468955047338504, -2.265420247703106]  [0.4648, -2.3752]   \n",
       "hGBM  [0.5509021456694858, -2.0709221111339886]  [0.5877, -2.0847]   \n",
       "\n",
       "             score_test  \n",
       "lSVM  [0.4328, -2.3574]  \n",
       "hGBM  [0.4925, -2.2299]  "
      ]
     },
     "execution_count": 7,
     "metadata": {},
     "output_type": "execute_result"
    }
   ],
   "source": [
    "# The columns in the results dataframe contain a list of\n",
    "# scores, one for each metric (in the same order as called)\n",
    "atom.results[[\"score_ht\", \"score_train\", \"score_test\"]]"
   ]
  },
  {
   "cell_type": "code",
   "execution_count": 8,
   "metadata": {},
   "outputs": [
    {
     "data": {
      "image/png": "[encoded data removed]",
      "text/plain": [
       "<Figure size 1008x432 with 4 Axes>"
      ]
     },
     "metadata": {
      "needs_background": "light"
     },
     "output_type": "display_data"
    }
   ],
   "source": [
    "# Some plots allow us to choose the metric we want to show\n",
    "with atom.canvas():\n",
    "    atom.plot_trials(metric=\"r2\", title=\"Hyperparameter tuning performance for R2\")\n",
    "    atom.plot_trials(metric=\"rmse\", title=\"Hyperparameter tuning performance for RMSE\")"
   ]
  },
  {
   "cell_type": "code",
   "execution_count": 10,
   "metadata": {},
   "outputs": [
    {
     "data": {
      "image/png": "[encoded data removed]",
      "text/plain": [
       "<Figure size 720x360 with 1 Axes>"
      ]
     },
     "metadata": {},
     "output_type": "display_data"
    }
   ],
   "source": [
    "atom.plot_results(metric=\"r2\")\n"
   ]
  }
 ],
 "metadata": {
  "kernelspec": {
   "display_name": "Python 3 (ipykernel)",
   "language": "python",
   "name": "python3"
  },
  "language_info": {
   "codemirror_mode": {
    "name": "ipython",
    "version": 3
   },
   "file_extension": ".py",
   "mimetype": "text/x-python",
   "name": "python",
   "nbconvert_exporter": "python",
   "pygments_lexer": "ipython3",
   "version": "3.10.2"
  },
  "toc": {
   "base_numbering": 1,
   "nav_menu": {},
   "number_sections": true,
   "sideBar": true,
   "skip_h1_title": false,
   "title_cell": "Table of Contents",
   "title_sidebar": "Contents",
   "toc_cell": false,
   "toc_position": {},
   "toc_section_display": true,
   "toc_window_display": false
  }
 },
 "nbformat": 4,
 "nbformat_minor": 4
}

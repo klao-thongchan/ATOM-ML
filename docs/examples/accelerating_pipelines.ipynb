{
 "cells": [
  {
   "cell_type": "markdown",
   "metadata": {
    "pycharm": {
     "name": "#%% md\n"
    }
   },
   "source": [
    "# Accelerating pipelines\n",
    "-----------------------\n",
    "\n",
    "This example shows how to accelerate your sklearn models on cpu.\n",
    "\n",
    "The data used is a variation on the [Australian weather dataset](https://www.kaggle.com/jsphyg/weather-dataset-rattle-package) from Kaggle. You can download it from [here](https://github.com/tvdboom/ATOM/blob/master/examples/datasets/weatherAUS.csv). The goal of this dataset is to predict whether or not it will rain tomorrow training a binary classifier on target `RainTomorrow`."
   ]
  },
  {
   "cell_type": "markdown",
   "metadata": {
    "pycharm": {
     "name": "#%% md\n"
    }
   },
   "source": [
    "## Load the data"
   ]
  },
  {
   "cell_type": "code",
   "execution_count": 1,
   "metadata": {
    "pycharm": {
     "name": "#%%\n"
    }
   },
   "outputs": [],
   "source": [
    "# Import packages\n",
    "import pandas as pd\n",
    "from atom import ATOMClassifier"
   ]
  },
  {
   "cell_type": "code",
   "execution_count": 2,
   "metadata": {
    "pycharm": {
     "name": "#%%\n"
    }
   },
   "outputs": [
    {
     "data": {
      "text/html": [
       "<div>\n",
       "<style scoped>\n",
       "    .dataframe tbody tr th:only-of-type {\n",
       "        vertical-align: middle;\n",
       "    }\n",
       "\n",
       "    .dataframe tbody tr th {\n",
       "        vertical-align: top;\n",
       "    }\n",
       "\n",
       "    .dataframe thead th {\n",
       "        text-align: right;\n",
       "    }\n",
       "</style>\n",
       "<table border=\"1\" class=\"dataframe\">\n",
       "  <thead>\n",
       "    <tr style=\"text-align: right;\">\n",
       "      <th></th>\n",
       "      <th>Location</th>\n",
       "      <th>MinTemp</th>\n",
       "      <th>MaxTemp</th>\n",
       "      <th>Rainfall</th>\n",
       "      <th>Evaporation</th>\n",
       "      <th>Sunshine</th>\n",
       "      <th>WindGustDir</th>\n",
       "      <th>WindGustSpeed</th>\n",
       "      <th>WindDir9am</th>\n",
       "      <th>WindDir3pm</th>\n",
       "      <th>...</th>\n",
       "      <th>Humidity9am</th>\n",
       "      <th>Humidity3pm</th>\n",
       "      <th>Pressure9am</th>\n",
       "      <th>Pressure3pm</th>\n",
       "      <th>Cloud9am</th>\n",
       "      <th>Cloud3pm</th>\n",
       "      <th>Temp9am</th>\n",
       "      <th>Temp3pm</th>\n",
       "      <th>RainToday</th>\n",
       "      <th>RainTomorrow</th>\n",
       "    </tr>\n",
       "  </thead>\n",
       "  <tbody>\n",
       "    <tr>\n",
       "      <th>0</th>\n",
       "      <td>MelbourneAirport</td>\n",
       "      <td>18.0</td>\n",
       "      <td>26.9</td>\n",
       "      <td>21.4</td>\n",
       "      <td>7.0</td>\n",
       "      <td>8.9</td>\n",
       "      <td>SSE</td>\n",
       "      <td>41.0</td>\n",
       "      <td>W</td>\n",
       "      <td>SSE</td>\n",
       "      <td>...</td>\n",
       "      <td>95.0</td>\n",
       "      <td>54.0</td>\n",
       "      <td>1019.5</td>\n",
       "      <td>1017.0</td>\n",
       "      <td>8.0</td>\n",
       "      <td>5.0</td>\n",
       "      <td>18.5</td>\n",
       "      <td>26.0</td>\n",
       "      <td>Yes</td>\n",
       "      <td>0</td>\n",
       "    </tr>\n",
       "    <tr>\n",
       "      <th>1</th>\n",
       "      <td>Adelaide</td>\n",
       "      <td>17.2</td>\n",
       "      <td>23.4</td>\n",
       "      <td>0.0</td>\n",
       "      <td>NaN</td>\n",
       "      <td>NaN</td>\n",
       "      <td>S</td>\n",
       "      <td>41.0</td>\n",
       "      <td>S</td>\n",
       "      <td>WSW</td>\n",
       "      <td>...</td>\n",
       "      <td>59.0</td>\n",
       "      <td>36.0</td>\n",
       "      <td>1015.7</td>\n",
       "      <td>1015.7</td>\n",
       "      <td>NaN</td>\n",
       "      <td>NaN</td>\n",
       "      <td>17.7</td>\n",
       "      <td>21.9</td>\n",
       "      <td>No</td>\n",
       "      <td>0</td>\n",
       "    </tr>\n",
       "    <tr>\n",
       "      <th>2</th>\n",
       "      <td>Cairns</td>\n",
       "      <td>18.6</td>\n",
       "      <td>24.6</td>\n",
       "      <td>7.4</td>\n",
       "      <td>3.0</td>\n",
       "      <td>6.1</td>\n",
       "      <td>SSE</td>\n",
       "      <td>54.0</td>\n",
       "      <td>SSE</td>\n",
       "      <td>SE</td>\n",
       "      <td>...</td>\n",
       "      <td>78.0</td>\n",
       "      <td>57.0</td>\n",
       "      <td>1018.7</td>\n",
       "      <td>1016.6</td>\n",
       "      <td>3.0</td>\n",
       "      <td>3.0</td>\n",
       "      <td>20.8</td>\n",
       "      <td>24.1</td>\n",
       "      <td>Yes</td>\n",
       "      <td>0</td>\n",
       "    </tr>\n",
       "    <tr>\n",
       "      <th>3</th>\n",
       "      <td>Portland</td>\n",
       "      <td>13.6</td>\n",
       "      <td>16.8</td>\n",
       "      <td>4.2</td>\n",
       "      <td>1.2</td>\n",
       "      <td>0.0</td>\n",
       "      <td>ESE</td>\n",
       "      <td>39.0</td>\n",
       "      <td>ESE</td>\n",
       "      <td>ESE</td>\n",
       "      <td>...</td>\n",
       "      <td>76.0</td>\n",
       "      <td>74.0</td>\n",
       "      <td>1021.4</td>\n",
       "      <td>1020.5</td>\n",
       "      <td>7.0</td>\n",
       "      <td>8.0</td>\n",
       "      <td>15.6</td>\n",
       "      <td>16.0</td>\n",
       "      <td>Yes</td>\n",
       "      <td>1</td>\n",
       "    </tr>\n",
       "    <tr>\n",
       "      <th>4</th>\n",
       "      <td>Walpole</td>\n",
       "      <td>16.4</td>\n",
       "      <td>19.9</td>\n",
       "      <td>0.0</td>\n",
       "      <td>NaN</td>\n",
       "      <td>NaN</td>\n",
       "      <td>SE</td>\n",
       "      <td>44.0</td>\n",
       "      <td>SE</td>\n",
       "      <td>SE</td>\n",
       "      <td>...</td>\n",
       "      <td>78.0</td>\n",
       "      <td>70.0</td>\n",
       "      <td>1019.4</td>\n",
       "      <td>1018.9</td>\n",
       "      <td>NaN</td>\n",
       "      <td>NaN</td>\n",
       "      <td>17.4</td>\n",
       "      <td>18.1</td>\n",
       "      <td>No</td>\n",
       "      <td>0</td>\n",
       "    </tr>\n",
       "  </tbody>\n",
       "</table>\n",
       "<p>5 rows × 22 columns</p>\n",
       "</div>"
      ],
      "text/plain": [
       "           Location  MinTemp  MaxTemp  Rainfall  Evaporation  Sunshine  \\\n",
       "0  MelbourneAirport     18.0     26.9      21.4          7.0       8.9   \n",
       "1          Adelaide     17.2     23.4       0.0          NaN       NaN   \n",
       "2            Cairns     18.6     24.6       7.4          3.0       6.1   \n",
       "3          Portland     13.6     16.8       4.2          1.2       0.0   \n",
       "4           Walpole     16.4     19.9       0.0          NaN       NaN   \n",
       "\n",
       "  WindGustDir  WindGustSpeed WindDir9am WindDir3pm  ...  Humidity9am  \\\n",
       "0         SSE           41.0          W        SSE  ...         95.0   \n",
       "1           S           41.0          S        WSW  ...         59.0   \n",
       "2         SSE           54.0        SSE         SE  ...         78.0   \n",
       "3         ESE           39.0        ESE        ESE  ...         76.0   \n",
       "4          SE           44.0         SE         SE  ...         78.0   \n",
       "\n",
       "   Humidity3pm  Pressure9am  Pressure3pm  Cloud9am  Cloud3pm  Temp9am  \\\n",
       "0         54.0       1019.5       1017.0       8.0       5.0     18.5   \n",
       "1         36.0       1015.7       1015.7       NaN       NaN     17.7   \n",
       "2         57.0       1018.7       1016.6       3.0       3.0     20.8   \n",
       "3         74.0       1021.4       1020.5       7.0       8.0     15.6   \n",
       "4         70.0       1019.4       1018.9       NaN       NaN     17.4   \n",
       "\n",
       "   Temp3pm  RainToday  RainTomorrow  \n",
       "0     26.0        Yes             0  \n",
       "1     21.9         No             0  \n",
       "2     24.1        Yes             0  \n",
       "3     16.0        Yes             1  \n",
       "4     18.1         No             0  \n",
       "\n",
       "[5 rows x 22 columns]"
      ]
     },
     "execution_count": 2,
     "metadata": {},
     "output_type": "execute_result"
    }
   ],
   "source": [
    "# Load data\n",
    "X = pd.read_csv(\"./datasets/weatherAUS.csv\")\n",
    "\n",
    "# Let's have a look\n",
    "X.head()"
   ]
  },
  {
   "cell_type": "markdown",
   "metadata": {
    "pycharm": {
     "name": "#%% md\n"
    }
   },
   "source": [
    "## Run the pipeline"
   ]
  },
  {
   "cell_type": "code",
   "execution_count": 3,
   "metadata": {
    "pycharm": {
     "name": "#%%\n"
    }
   },
   "outputs": [
    {
     "name": "stdout",
     "output_type": "stream",
     "text": [
      "<< ================== ATOM ================== >>\n",
      "Algorithm task: binary classification.\n",
      "\n",
      "Dataset stats ==================== >>\n",
      "Shape: (142193, 22)\n",
      "Memory: 61.69 MB\n",
      "Scaled: False\n",
      "Missing values: 316559 (10.1%)\n",
      "Categorical features: 5 (23.8%)\n",
      "Duplicate samples: 45 (0.0%)\n",
      "-------------------------------------\n",
      "Train set size: 113755\n",
      "Test set size: 28438\n",
      "-------------------------------------\n",
      "|   |        dataset |          train |           test |\n",
      "| - | -------------- | -------------- | -------------- |\n",
      "| 0 |   110316 (3.5) |    88253 (3.5) |    22063 (3.5) |\n",
      "| 1 |    31877 (1.0) |    25502 (1.0) |     6375 (1.0) |\n",
      "\n"
     ]
    }
   ],
   "source": [
    "atom = ATOMClassifier(X, \"RainTomorrow\", verbose=2)"
   ]
  },
  {
   "cell_type": "code",
   "execution_count": 4,
   "metadata": {
    "pycharm": {
     "name": "#%%\n"
    }
   },
   "outputs": [
    {
     "name": "stdout",
     "output_type": "stream",
     "text": [
      "Fitting Imputer...\n",
      "Imputing missing values...\n",
      " --> Dropping 637 samples due to missing values in feature MinTemp.\n",
      " --> Dropping 322 samples due to missing values in feature MaxTemp.\n",
      " --> Dropping 1406 samples due to missing values in feature Rainfall.\n",
      " --> Dropping 60843 samples due to missing values in feature Evaporation.\n",
      " --> Dropping 67816 samples due to missing values in feature Sunshine.\n",
      " --> Dropping 9330 samples due to missing values in feature WindGustDir.\n",
      " --> Dropping 9270 samples due to missing values in feature WindGustSpeed.\n",
      " --> Dropping 10013 samples due to missing values in feature WindDir9am.\n",
      " --> Dropping 3778 samples due to missing values in feature WindDir3pm.\n",
      " --> Dropping 1348 samples due to missing values in feature WindSpeed9am.\n",
      " --> Dropping 2630 samples due to missing values in feature WindSpeed3pm.\n",
      " --> Dropping 1774 samples due to missing values in feature Humidity9am.\n",
      " --> Dropping 3610 samples due to missing values in feature Humidity3pm.\n",
      " --> Dropping 14014 samples due to missing values in feature Pressure9am.\n",
      " --> Dropping 13981 samples due to missing values in feature Pressure3pm.\n",
      " --> Dropping 53657 samples due to missing values in feature Cloud9am.\n",
      " --> Dropping 57094 samples due to missing values in feature Cloud3pm.\n",
      " --> Dropping 904 samples due to missing values in feature Temp9am.\n",
      " --> Dropping 2726 samples due to missing values in feature Temp3pm.\n",
      " --> Dropping 1406 samples due to missing values in feature RainToday.\n",
      "Fitting Encoder...\n",
      "Encoding categorical columns...\n",
      " --> LeaveOneOut-encoding feature Location. Contains 26 classes.\n",
      " --> LeaveOneOut-encoding feature WindGustDir. Contains 16 classes.\n",
      " --> LeaveOneOut-encoding feature WindDir9am. Contains 16 classes.\n",
      " --> LeaveOneOut-encoding feature WindDir3pm. Contains 16 classes.\n",
      " --> Ordinal-encoding feature RainToday. Contains 2 classes.\n"
     ]
    }
   ],
   "source": [
    "# Impute missing values and encode categorical columns\n",
    "atom.impute()\n",
    "atom.encode()"
   ]
  },
  {
   "cell_type": "code",
   "execution_count": 5,
   "metadata": {
    "pycharm": {
     "name": "#%%\n"
    }
   },
   "outputs": [
    {
     "name": "stdout",
     "output_type": "stream",
     "text": [
      "\n",
      "Training ========================= >>\n",
      "Models: KNN\n",
      "Metric: f1\n",
      "\n",
      "\n",
      "Results for K-Nearest Neighbors:\n",
      "Fit ---------------------------------------------\n",
      "Train evaluation --> f1: 0.7107\n",
      "Test evaluation --> f1: 0.6032\n",
      "Time elapsed: 1.373s\n",
      "-------------------------------------------------\n",
      "Total time: 1.374s\n",
      "\n",
      "\n",
      "Final results ==================== >>\n",
      "Total time: 1.375s\n",
      "-------------------------------------\n",
      "K-Nearest Neighbors --> f1: 0.6032\n"
     ]
    }
   ],
   "source": [
    "# Train a Random Forest model (using default sklearn)\n",
    "atom.run(models=\"KNN\", metric=\"f1\")"
   ]
  },
  {
   "cell_type": "code",
   "execution_count": 6,
   "metadata": {},
   "outputs": [
    {
     "name": "stdout",
     "output_type": "stream",
     "text": [
      "\n",
      "Training ========================= >>\n",
      "Models: KNN_acc\n",
      "Metric: f1\n",
      "\n",
      "\n",
      "Results for K-Nearest Neighbors:\n",
      "Fit ---------------------------------------------\n",
      "Train evaluation --> f1: 0.7107\n",
      "Test evaluation --> f1: 0.6032\n",
      "Time elapsed: 0.803s\n",
      "-------------------------------------------------\n",
      "Total time: 0.803s\n",
      "\n",
      "\n",
      "Final results ==================== >>\n",
      "Total time: 0.804s\n",
      "-------------------------------------\n",
      "K-Nearest Neighbors --> f1: 0.6032\n"
     ]
    }
   ],
   "source": [
    "# Now, we train an accelerated Random Forest using engine=\"sklearnex\"\n",
    "# Note the diffrence in training speed!!\n",
    "atom.run(models=\"KNN_acc\", metric=\"f1\", engine=\"sklearnex\")"
   ]
  },
  {
   "cell_type": "markdown",
   "metadata": {
    "pycharm": {
     "name": "#%% md\n"
    }
   },
   "source": [
    "## Analyze the results"
   ]
  },
  {
   "cell_type": "code",
   "execution_count": 7,
   "metadata": {
    "pycharm": {
     "name": "#%%\n"
    }
   },
   "outputs": [
    {
     "data": {
      "text/html": [
       "<div>\n",
       "<style scoped>\n",
       "    .dataframe tbody tr th:only-of-type {\n",
       "        vertical-align: middle;\n",
       "    }\n",
       "\n",
       "    .dataframe tbody tr th {\n",
       "        vertical-align: top;\n",
       "    }\n",
       "\n",
       "    .dataframe thead th {\n",
       "        text-align: right;\n",
       "    }\n",
       "</style>\n",
       "<table border=\"1\" class=\"dataframe\">\n",
       "  <thead>\n",
       "    <tr style=\"text-align: right;\">\n",
       "      <th></th>\n",
       "      <th>score_train</th>\n",
       "      <th>score_test</th>\n",
       "      <th>time_fit</th>\n",
       "      <th>time</th>\n",
       "    </tr>\n",
       "  </thead>\n",
       "  <tbody>\n",
       "    <tr>\n",
       "      <th>KNN</th>\n",
       "      <td>0.710663</td>\n",
       "      <td>0.603153</td>\n",
       "      <td>1.373249</td>\n",
       "      <td>1.374250</td>\n",
       "    </tr>\n",
       "    <tr>\n",
       "      <th>KNN_acc</th>\n",
       "      <td>0.710663</td>\n",
       "      <td>0.603153</td>\n",
       "      <td>0.802732</td>\n",
       "      <td>0.802732</td>\n",
       "    </tr>\n",
       "  </tbody>\n",
       "</table>\n",
       "</div>"
      ],
      "text/plain": [
       "         score_train  score_test  time_fit      time\n",
       "KNN          0.710663     0.603153  1.373249  1.374250\n",
       "KNN_acc      0.710663     0.603153  0.802732  0.802732"
      ]
     },
     "execution_count": 7,
     "metadata": {},
     "output_type": "execute_result"
    }
   ],
   "source": [
    "atom.results"
   ]
  },
  {
   "cell_type": "code",
   "execution_count": 8,
   "metadata": {},
   "outputs": [
    {
     "name": "stdout",
     "output_type": "stream",
     "text": [
      "KNeighborsClassifier(n_jobs=1)\n",
      "KNeighborsClassifier(n_jobs=1)\n",
      "sklearn.neighbors._classification\n",
      "sklearnex.neighbors.knn_classification\n"
     ]
    }
   ],
   "source": [
    "# Note how the underlying estimators might look the same...\n",
    "print(atom.knn.estimator)\n",
    "print(atom.knn_acc.estimator)\n",
    "\n",
    "# ... but are using different implementations\n",
    "print(atom.knn.estimator.__module__)\n",
    "print(atom.knn_acc.estimator.__module__)"
   ]
  },
  {
   "cell_type": "code",
   "execution_count": 9,
   "metadata": {
    "pycharm": {
     "name": "#%%\n"
    }
   },
   "outputs": [
    {
     "data": {
      "image/png": "[encoded data removed]",
      "text/plain": [
       "<Figure size 1008x432 with 2 Axes>"
      ]
     },
     "metadata": {
      "needs_background": "light"
     },
     "output_type": "display_data"
    }
   ],
   "source": [
    "with atom.canvas(1, 2, title=\"Timing engines: sklearn vs sklearnex\"):\n",
    "    atom.plot_results(metric=\"time_fit\", title=\"Training\")\n",
    "    atom.plot_results(metric=\"time\", title=\"Total\")"
   ]
  }
 ],
 "metadata": {
  "kernelspec": {
   "display_name": "Python 3 (ipykernel)",
   "language": "python",
   "name": "python3"
  },
  "language_info": {
   "codemirror_mode": {
    "name": "ipython",
    "version": 3
   },
   "file_extension": ".py",
   "mimetype": "text/x-python",
   "name": "python",
   "nbconvert_exporter": "python",
   "pygments_lexer": "ipython3",
   "version": "3.10.2"
  },
  "toc": {
   "base_numbering": 1,
   "nav_menu": {},
   "number_sections": true,
   "sideBar": true,
   "skip_h1_title": false,
   "title_cell": "Table of Contents",
   "title_sidebar": "Contents",
   "toc_cell": false,
   "toc_position": {},
   "toc_section_display": true,
   "toc_window_display": false
  }
 },
 "nbformat": 4,
 "nbformat_minor": 4
}

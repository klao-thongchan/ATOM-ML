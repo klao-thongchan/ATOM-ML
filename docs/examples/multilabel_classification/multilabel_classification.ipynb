{
 "cells": [
  {
   "cell_type": "markdown",
   "metadata": {},
   "source": [
    "# Example: Multilabel classification\n",
    "--------------------------------\n",
    "\n",
    "This example shows how to use ATOM to solve a multilabel classification problem.\n",
    "\n",
    "The data used is a synthetic dataset created using sklearn's [make_multilabel_classification](https://scikit-learn.org/stable/modules/generated/sklearn.datasets.make_multilabel_classification.html) function."
   ]
  },
  {
   "cell_type": "markdown",
   "metadata": {},
   "source": [
    "## Load the data"
   ]
  },
  {
   "cell_type": "code",
   "execution_count": 1,
   "metadata": {
    "tags": []
   },
   "source": [
    "# Import packages\n",
    "import pandas as pd\n",
    "from atom import ATOMClassifier\n",
    "from sklearn.datasets import make_multilabel_classification"
   ],
   "outputs": []
  },
  {
   "cell_type": "code",
   "execution_count": 2,
   "metadata": {
    "tags": []
   },
   "source": [
    "# Create data\n",
    "X, y = make_multilabel_classification(n_samples=300, n_classes=3, random_state=1)"
   ],
   "outputs": []
  },
  {
   "cell_type": "markdown",
   "metadata": {},
   "source": [
    "## Run the pipeline"
   ]
  },
  {
   "cell_type": "code",
   "execution_count": 3,
   "metadata": {
    "tags": []
   },
   "source": [
    "# Note that for multioutput tasks, you must specify the `y` keyword\n",
    "atom = ATOMClassifier(X, y=y, verbose=2, random_state=1)"
   ],
   "outputs": []
  },
  {
   "cell_type": "code",
   "execution_count": 4,
   "metadata": {
    "tags": []
   },
   "source": [
    "# Show the models that natively support multilabel tasks\n",
    "atom.available_models(native_multilabel=True)"
   ],
   "outputs": []
  },
  {
   "cell_type": "code",
   "execution_count": 5,
   "metadata": {
    "tags": []
   },
   "source": [
    "atom.run(models=[\"LDA\", \"RF\"], metric=\"recall_weighted\")"
   ],
   "outputs": []
  },
  {
   "cell_type": "code",
   "execution_count": 6,
   "metadata": {
    "tags": []
   },
   "source": [
    "# Note that non-native multioutput models use a meta-estimator wrapper\n",
    "print(f\"Estimator for LDA is: {atom.lda.estimator}\")\n",
    "print(f\"Estimator for RF is: {atom.rf.estimator}\")"
   ],
   "outputs": []
  },
  {
   "cell_type": "markdown",
   "metadata": {},
   "source": [
    "## Add custom multilabel models\n",
    "\n",
    "To use your own meta-estimator with custom parameters, add it as a [custom model](https://tvdboom.github.io/ATOM/latest/user_guide/models/#custom-models).\n",
    "It's also possible to tune the hyperparameters of this custom meta-estimator."
   ]
  },
  {
   "cell_type": "code",
   "execution_count": 7,
   "metadata": {},
   "source": [
    "from atom import ATOMModel\n",
    "from sklearn.multioutput import ClassifierChain\n",
    "from sklearn.linear_model import LogisticRegression\n",
    "from optuna.distributions import CategoricalDistribution, IntDistribution\n",
    "\n",
    "custom_model = ATOMModel(\n",
    "    estimator=ClassifierChain(LogisticRegression(), cv=3),\n",
    "    name=\"chain\",\n",
    "    needs_scaling=True,\n",
    "    native_multilabel=True,\n",
    ")\n",
    "\n",
    "atom.run(\n",
    "    models=custom_model,\n",
    "    n_trials=5,\n",
    "    ht_params={\n",
    "        \"distributions\": {\n",
    "            \"order\": CategoricalDistribution([[0, 1, 2], [2, 1, 0], [1, 2, 0]]),\n",
    "            \"base_estimator__max_iter\": IntDistribution(100, 200, step=10),\n",
    "            \"base_estimator__solver\": CategoricalDistribution([\"lbfgs\", \"newton-cg\"]),            \n",
    "        }\n",
    "    }\n",
    ")"
   ],
   "outputs": []
  },
  {
   "cell_type": "markdown",
   "metadata": {},
   "source": [
    "## Analyze the results"
   ]
  },
  {
   "cell_type": "code",
   "execution_count": 8,
   "metadata": {
    "tags": []
   },
   "source": [
    "thresholds = atom.rf.get_best_threshold()\n",
    "print(f\"Best threshold per target column: {thresholds}\")"
   ],
   "outputs": []
  },
  {
   "cell_type": "code",
   "execution_count": 9,
   "metadata": {},
   "source": [
    "atom.rf.evaluate(threshold=thresholds)"
   ],
   "outputs": []
  },
  {
   "cell_type": "code",
   "execution_count": 10,
   "metadata": {
    "tags": []
   },
   "source": [
    "# Use the target parameter in plots to specify which target column to use\n",
    "atom.plot_roc(target=2)"
   ],
   "outputs": []
  },
  {
   "cell_type": "code",
   "execution_count": 11,
   "metadata": {
    "tags": []
   },
   "source": [
    "# When the target parameter also specifies the class, use format (column, class)\n",
    "atom.plot_probabilities(models=\"chain\", target=(2, 1))"
   ],
   "outputs": []
  },
  {
   "cell_type": "code",
   "execution_count": 12,
   "metadata": {
    "tags": []
   },
   "source": [
    "with atom.canvas(figsize=(900, 600)):\n",
    "    atom.plot_calibration(target=0)\n",
    "    atom.plot_calibration(target=1)"
   ],
   "outputs": []
  }
 ],
 "metadata": {
  "kernelspec": {
   "display_name": "Python 3 (ipykernel)",
   "language": "python",
   "name": "python3"
  },
  "language_info": {
   "codemirror_mode": {
    "name": "ipython",
    "version": 3
   },
   "file_extension": ".py",
   "mimetype": "text/x-python",
   "name": "python",
   "nbconvert_exporter": "python",
   "pygments_lexer": "ipython3",
   "version": "3.11.2"
  },
  "toc": {
   "base_numbering": 1,
   "nav_menu": {},
   "number_sections": true,
   "sideBar": true,
   "skip_h1_title": false,
   "title_cell": "Table of Contents",
   "title_sidebar": "Contents",
   "toc_cell": false,
   "toc_position": {},
   "toc_section_display": true,
   "toc_window_display": false
  }
 },
 "nbformat": 4,
 "nbformat_minor": 4
}
